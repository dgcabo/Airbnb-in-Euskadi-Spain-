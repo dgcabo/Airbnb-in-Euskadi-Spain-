{
 "cells": [
  {
   "cell_type": "markdown",
   "id": "7b16bcba-f6f0-4a34-be3b-72ad2a5f2ff6",
   "metadata": {
    "jp-MarkdownHeadingCollapsed": true
   },
   "source": [
    "### 1 Preparing the data\n",
    "In the following programm we will read our datasets, understand their content and try to structured it a little bit.\n",
    "For this we will start by importing all the necessary libraries and packages."
   ]
  },
  {
   "cell_type": "code",
   "execution_count": 429,
   "id": "b09c2da5-ce42-4f71-a41f-94dcaf622a46",
   "metadata": {},
   "outputs": [],
   "source": [
    "import numpy as np\n",
    "import pandas as pd\n",
    "import matplotlib.pyplot as plt\n",
    "import seaborn as sns\n",
    "import matplotlib.pyplot as plt"
   ]
  },
  {
   "cell_type": "markdown",
   "id": "894eac74-10c4-4898-824d-182f19f88434",
   "metadata": {
    "jp-MarkdownHeadingCollapsed": true
   },
   "source": [
    "#### 1.1 Gathering the data"
   ]
  },
  {
   "cell_type": "markdown",
   "id": "2c2268f5-fca7-4ad4-af36-9abee4d70af1",
   "metadata": {},
   "source": [
    "Lets read first our .csv file."
   ]
  },
  {
   "cell_type": "code",
   "execution_count": 430,
   "id": "3a598398-34e0-441d-92df-eb0885df326d",
   "metadata": {},
   "outputs": [
    {
     "name": "stdout",
     "output_type": "stream",
     "text": [
      "<class 'pandas.core.frame.DataFrame'>\n",
      "RangeIndex: 6803 entries, 0 to 6802\n",
      "Data columns (total 79 columns):\n",
      " #   Column                                        Non-Null Count  Dtype  \n",
      "---  ------                                        --------------  -----  \n",
      " 0   id                                            6803 non-null   int64  \n",
      " 1   listing_url                                   6803 non-null   object \n",
      " 2   scrape_id                                     6803 non-null   int64  \n",
      " 3   last_scraped                                  6803 non-null   object \n",
      " 4   source                                        6803 non-null   object \n",
      " 5   name                                          6803 non-null   object \n",
      " 6   description                                   6559 non-null   object \n",
      " 7   neighborhood_overview                         3321 non-null   object \n",
      " 8   picture_url                                   6803 non-null   object \n",
      " 9   host_id                                       6803 non-null   int64  \n",
      " 10  host_url                                      6803 non-null   object \n",
      " 11  host_name                                     6802 non-null   object \n",
      " 12  host_since                                    6802 non-null   object \n",
      " 13  host_location                                 4882 non-null   object \n",
      " 14  host_about                                    3126 non-null   object \n",
      " 15  host_response_time                            5909 non-null   object \n",
      " 16  host_response_rate                            5909 non-null   object \n",
      " 17  host_acceptance_rate                          6424 non-null   object \n",
      " 18  host_is_superhost                             6677 non-null   object \n",
      " 19  host_thumbnail_url                            6802 non-null   object \n",
      " 20  host_picture_url                              6802 non-null   object \n",
      " 21  host_neighbourhood                            360 non-null    object \n",
      " 22  host_listings_count                           6802 non-null   float64\n",
      " 23  host_total_listings_count                     6802 non-null   float64\n",
      " 24  host_verifications                            6802 non-null   object \n",
      " 25  host_has_profile_pic                          6802 non-null   object \n",
      " 26  host_identity_verified                        6802 non-null   object \n",
      " 27  neighbourhood                                 3321 non-null   object \n",
      " 28  neighbourhood_cleansed                        6803 non-null   object \n",
      " 29  neighbourhood_group_cleansed                  6803 non-null   object \n",
      " 30  latitude                                      6803 non-null   float64\n",
      " 31  longitude                                     6803 non-null   float64\n",
      " 32  property_type                                 6803 non-null   object \n",
      " 33  room_type                                     6803 non-null   object \n",
      " 34  accommodates                                  6803 non-null   int64  \n",
      " 35  bathrooms                                     5970 non-null   float64\n",
      " 36  bathrooms_text                                6789 non-null   object \n",
      " 37  bedrooms                                      6633 non-null   float64\n",
      " 38  beds                                          5961 non-null   float64\n",
      " 39  amenities                                     6803 non-null   object \n",
      " 40  price                                         5975 non-null   object \n",
      " 41  minimum_nights                                6803 non-null   int64  \n",
      " 42  maximum_nights                                6803 non-null   int64  \n",
      " 43  minimum_minimum_nights                        6803 non-null   int64  \n",
      " 44  maximum_minimum_nights                        6803 non-null   int64  \n",
      " 45  minimum_maximum_nights                        6803 non-null   int64  \n",
      " 46  maximum_maximum_nights                        6803 non-null   int64  \n",
      " 47  minimum_nights_avg_ntm                        6803 non-null   float64\n",
      " 48  maximum_nights_avg_ntm                        6803 non-null   float64\n",
      " 49  calendar_updated                              0 non-null      float64\n",
      " 50  has_availability                              6641 non-null   object \n",
      " 51  availability_30                               6803 non-null   int64  \n",
      " 52  availability_60                               6803 non-null   int64  \n",
      " 53  availability_90                               6803 non-null   int64  \n",
      " 54  availability_365                              6803 non-null   int64  \n",
      " 55  calendar_last_scraped                         6803 non-null   object \n",
      " 56  number_of_reviews                             6803 non-null   int64  \n",
      " 57  number_of_reviews_ltm                         6803 non-null   int64  \n",
      " 58  number_of_reviews_l30d                        6803 non-null   int64  \n",
      " 59  availability_eoy                              6803 non-null   int64  \n",
      " 60  number_of_reviews_ly                          6803 non-null   int64  \n",
      " 61  estimated_occupancy_l365d                     6803 non-null   int64  \n",
      " 62  estimated_revenue_l365d                       5975 non-null   float64\n",
      " 63  first_review                                  5951 non-null   object \n",
      " 64  last_review                                   5951 non-null   object \n",
      " 65  review_scores_rating                          5951 non-null   float64\n",
      " 66  review_scores_accuracy                        5951 non-null   float64\n",
      " 67  review_scores_cleanliness                     5951 non-null   float64\n",
      " 68  review_scores_checkin                         5951 non-null   float64\n",
      " 69  review_scores_communication                   5951 non-null   float64\n",
      " 70  review_scores_location                        5951 non-null   float64\n",
      " 71  review_scores_value                           5951 non-null   float64\n",
      " 72  license                                       3912 non-null   object \n",
      " 73  instant_bookable                              6803 non-null   object \n",
      " 74  calculated_host_listings_count                6803 non-null   int64  \n",
      " 75  calculated_host_listings_count_entire_homes   6803 non-null   int64  \n",
      " 76  calculated_host_listings_count_private_rooms  6803 non-null   int64  \n",
      " 77  calculated_host_listings_count_shared_rooms   6803 non-null   int64  \n",
      " 78  reviews_per_month                             5951 non-null   float64\n",
      "dtypes: float64(19), int64(24), object(36)\n",
      "memory usage: 4.1+ MB\n"
     ]
    }
   ],
   "source": [
    "df = pd.read_csv('./listings.csv')\n",
    "df.info()"
   ]
  },
  {
   "cell_type": "markdown",
   "id": "e149b208-dfa8-4d6b-97a2-89c7d7351e77",
   "metadata": {},
   "source": [
    "#### 1.2 Assessing the data"
   ]
  },
  {
   "cell_type": "markdown",
   "id": "c2c4de33-a1a0-4b0a-a002-56cbf11b33f5",
   "metadata": {},
   "source": [
    "Now we will filter the data frame, to consider only the columns that are relevant for our study."
   ]
  },
  {
   "cell_type": "code",
   "execution_count": 431,
   "id": "7e33bcb7-1052-4812-922f-52f9bdd1c95a",
   "metadata": {},
   "outputs": [
    {
     "data": {
      "text/html": [
       "<div>\n",
       "<style scoped>\n",
       "    .dataframe tbody tr th:only-of-type {\n",
       "        vertical-align: middle;\n",
       "    }\n",
       "\n",
       "    .dataframe tbody tr th {\n",
       "        vertical-align: top;\n",
       "    }\n",
       "\n",
       "    .dataframe thead th {\n",
       "        text-align: right;\n",
       "    }\n",
       "</style>\n",
       "<table border=\"1\" class=\"dataframe\">\n",
       "  <thead>\n",
       "    <tr style=\"text-align: right;\">\n",
       "      <th></th>\n",
       "      <th>host_id</th>\n",
       "      <th>latitude</th>\n",
       "      <th>longitude</th>\n",
       "      <th>accommodates</th>\n",
       "      <th>bathrooms</th>\n",
       "      <th>bedrooms</th>\n",
       "      <th>beds</th>\n",
       "      <th>availability_365</th>\n",
       "      <th>number_of_reviews</th>\n",
       "      <th>estimated_occupancy_l365d</th>\n",
       "      <th>review_scores_rating</th>\n",
       "      <th>review_scores_cleanliness</th>\n",
       "      <th>review_scores_checkin</th>\n",
       "      <th>review_scores_communication</th>\n",
       "      <th>review_scores_location</th>\n",
       "    </tr>\n",
       "  </thead>\n",
       "  <tbody>\n",
       "    <tr>\n",
       "      <th>count</th>\n",
       "      <td>6.803000e+03</td>\n",
       "      <td>6803.000000</td>\n",
       "      <td>6803.000000</td>\n",
       "      <td>6803.000000</td>\n",
       "      <td>5970.000000</td>\n",
       "      <td>6633.000000</td>\n",
       "      <td>5961.000000</td>\n",
       "      <td>6803.000000</td>\n",
       "      <td>6803.000000</td>\n",
       "      <td>6803.000000</td>\n",
       "      <td>5951.000000</td>\n",
       "      <td>5951.000000</td>\n",
       "      <td>5951.000000</td>\n",
       "      <td>5951.000000</td>\n",
       "      <td>5951.000000</td>\n",
       "    </tr>\n",
       "    <tr>\n",
       "      <th>mean</th>\n",
       "      <td>2.341937e+08</td>\n",
       "      <td>43.259000</td>\n",
       "      <td>-2.499724</td>\n",
       "      <td>4.033368</td>\n",
       "      <td>1.510050</td>\n",
       "      <td>2.003166</td>\n",
       "      <td>2.986412</td>\n",
       "      <td>173.766133</td>\n",
       "      <td>50.945612</td>\n",
       "      <td>68.243422</td>\n",
       "      <td>4.751092</td>\n",
       "      <td>4.769419</td>\n",
       "      <td>4.794030</td>\n",
       "      <td>4.839850</td>\n",
       "      <td>4.758696</td>\n",
       "    </tr>\n",
       "    <tr>\n",
       "      <th>std</th>\n",
       "      <td>2.002567e+08</td>\n",
       "      <td>0.156180</td>\n",
       "      <td>0.436777</td>\n",
       "      <td>2.358972</td>\n",
       "      <td>1.006046</td>\n",
       "      <td>1.246039</td>\n",
       "      <td>2.264917</td>\n",
       "      <td>119.556106</td>\n",
       "      <td>86.659598</td>\n",
       "      <td>80.439036</td>\n",
       "      <td>0.300745</td>\n",
       "      <td>0.310428</td>\n",
       "      <td>0.271362</td>\n",
       "      <td>0.246637</td>\n",
       "      <td>0.300070</td>\n",
       "    </tr>\n",
       "    <tr>\n",
       "      <th>min</th>\n",
       "      <td>5.955000e+04</td>\n",
       "      <td>42.487640</td>\n",
       "      <td>-3.437597</td>\n",
       "      <td>1.000000</td>\n",
       "      <td>0.000000</td>\n",
       "      <td>0.000000</td>\n",
       "      <td>0.000000</td>\n",
       "      <td>0.000000</td>\n",
       "      <td>0.000000</td>\n",
       "      <td>0.000000</td>\n",
       "      <td>1.000000</td>\n",
       "      <td>1.000000</td>\n",
       "      <td>1.000000</td>\n",
       "      <td>2.000000</td>\n",
       "      <td>1.000000</td>\n",
       "    </tr>\n",
       "    <tr>\n",
       "      <th>25%</th>\n",
       "      <td>5.575606e+07</td>\n",
       "      <td>43.257457</td>\n",
       "      <td>-2.925270</td>\n",
       "      <td>2.000000</td>\n",
       "      <td>1.000000</td>\n",
       "      <td>1.000000</td>\n",
       "      <td>1.000000</td>\n",
       "      <td>66.000000</td>\n",
       "      <td>4.000000</td>\n",
       "      <td>6.000000</td>\n",
       "      <td>4.660000</td>\n",
       "      <td>4.680000</td>\n",
       "      <td>4.730000</td>\n",
       "      <td>4.790000</td>\n",
       "      <td>4.670000</td>\n",
       "    </tr>\n",
       "    <tr>\n",
       "      <th>50%</th>\n",
       "      <td>1.745906e+08</td>\n",
       "      <td>43.301350</td>\n",
       "      <td>-2.662021</td>\n",
       "      <td>4.000000</td>\n",
       "      <td>1.000000</td>\n",
       "      <td>2.000000</td>\n",
       "      <td>3.000000</td>\n",
       "      <td>180.000000</td>\n",
       "      <td>18.000000</td>\n",
       "      <td>36.000000</td>\n",
       "      <td>4.830000</td>\n",
       "      <td>4.860000</td>\n",
       "      <td>4.880000</td>\n",
       "      <td>4.920000</td>\n",
       "      <td>4.840000</td>\n",
       "    </tr>\n",
       "    <tr>\n",
       "      <th>75%</th>\n",
       "      <td>4.128942e+08</td>\n",
       "      <td>43.323850</td>\n",
       "      <td>-1.985727</td>\n",
       "      <td>5.000000</td>\n",
       "      <td>2.000000</td>\n",
       "      <td>3.000000</td>\n",
       "      <td>4.000000</td>\n",
       "      <td>276.000000</td>\n",
       "      <td>59.000000</td>\n",
       "      <td>102.000000</td>\n",
       "      <td>4.950000</td>\n",
       "      <td>4.970000</td>\n",
       "      <td>4.960000</td>\n",
       "      <td>5.000000</td>\n",
       "      <td>4.970000</td>\n",
       "    </tr>\n",
       "    <tr>\n",
       "      <th>max</th>\n",
       "      <td>6.855334e+08</td>\n",
       "      <td>43.447287</td>\n",
       "      <td>-1.757010</td>\n",
       "      <td>16.000000</td>\n",
       "      <td>24.000000</td>\n",
       "      <td>25.000000</td>\n",
       "      <td>29.000000</td>\n",
       "      <td>365.000000</td>\n",
       "      <td>1241.000000</td>\n",
       "      <td>255.000000</td>\n",
       "      <td>5.000000</td>\n",
       "      <td>5.000000</td>\n",
       "      <td>5.000000</td>\n",
       "      <td>5.000000</td>\n",
       "      <td>5.000000</td>\n",
       "    </tr>\n",
       "  </tbody>\n",
       "</table>\n",
       "</div>"
      ],
      "text/plain": [
       "            host_id     latitude    longitude  accommodates    bathrooms  \\\n",
       "count  6.803000e+03  6803.000000  6803.000000   6803.000000  5970.000000   \n",
       "mean   2.341937e+08    43.259000    -2.499724      4.033368     1.510050   \n",
       "std    2.002567e+08     0.156180     0.436777      2.358972     1.006046   \n",
       "min    5.955000e+04    42.487640    -3.437597      1.000000     0.000000   \n",
       "25%    5.575606e+07    43.257457    -2.925270      2.000000     1.000000   \n",
       "50%    1.745906e+08    43.301350    -2.662021      4.000000     1.000000   \n",
       "75%    4.128942e+08    43.323850    -1.985727      5.000000     2.000000   \n",
       "max    6.855334e+08    43.447287    -1.757010     16.000000    24.000000   \n",
       "\n",
       "          bedrooms         beds  availability_365  number_of_reviews  \\\n",
       "count  6633.000000  5961.000000       6803.000000        6803.000000   \n",
       "mean      2.003166     2.986412        173.766133          50.945612   \n",
       "std       1.246039     2.264917        119.556106          86.659598   \n",
       "min       0.000000     0.000000          0.000000           0.000000   \n",
       "25%       1.000000     1.000000         66.000000           4.000000   \n",
       "50%       2.000000     3.000000        180.000000          18.000000   \n",
       "75%       3.000000     4.000000        276.000000          59.000000   \n",
       "max      25.000000    29.000000        365.000000        1241.000000   \n",
       "\n",
       "       estimated_occupancy_l365d  review_scores_rating  \\\n",
       "count                6803.000000           5951.000000   \n",
       "mean                   68.243422              4.751092   \n",
       "std                    80.439036              0.300745   \n",
       "min                     0.000000              1.000000   \n",
       "25%                     6.000000              4.660000   \n",
       "50%                    36.000000              4.830000   \n",
       "75%                   102.000000              4.950000   \n",
       "max                   255.000000              5.000000   \n",
       "\n",
       "       review_scores_cleanliness  review_scores_checkin  \\\n",
       "count                5951.000000            5951.000000   \n",
       "mean                    4.769419               4.794030   \n",
       "std                     0.310428               0.271362   \n",
       "min                     1.000000               1.000000   \n",
       "25%                     4.680000               4.730000   \n",
       "50%                     4.860000               4.880000   \n",
       "75%                     4.970000               4.960000   \n",
       "max                     5.000000               5.000000   \n",
       "\n",
       "       review_scores_communication  review_scores_location  \n",
       "count                  5951.000000             5951.000000  \n",
       "mean                      4.839850                4.758696  \n",
       "std                       0.246637                0.300070  \n",
       "min                       2.000000                1.000000  \n",
       "25%                       4.790000                4.670000  \n",
       "50%                       4.920000                4.840000  \n",
       "75%                       5.000000                4.970000  \n",
       "max                       5.000000                5.000000  "
      ]
     },
     "execution_count": 431,
     "metadata": {},
     "output_type": "execute_result"
    }
   ],
   "source": [
    "df_filtered = df[[\"host_id\",\"host_location\",\"latitude\",\"longitude\",\"host_since\",\"host_is_superhost\",\"property_type\",\"room_type\",\"accommodates\",\"bathrooms\",\"bedrooms\",\"beds\",\"amenities\",\"price\",\"availability_365\",\"number_of_reviews\",\"estimated_occupancy_l365d\",\"review_scores_rating\",\"review_scores_cleanliness\",\"review_scores_checkin\",\"review_scores_communication\",\"review_scores_location\"]]\n",
    "df_filtered.describe()"
   ]
  },
  {
   "cell_type": "markdown",
   "id": "aeb7431d-dabd-4231-8059-2759c1ec1793",
   "metadata": {},
   "source": [
    "Conclusion: Here we can see that the top occupancy is **255 days/year.** This will be very important to know in order to answer our first question below."
   ]
  },
  {
   "cell_type": "markdown",
   "id": "d8a5f116-0318-4de3-b905-fa5decdfa4c0",
   "metadata": {},
   "source": [
    "Lets have a look now at the values"
   ]
  },
  {
   "cell_type": "code",
   "execution_count": 432,
   "id": "09df7c9c-cf76-4b44-b204-7ee287701501",
   "metadata": {},
   "outputs": [
    {
     "name": "stdout",
     "output_type": "stream",
     "text": [
      "<class 'pandas.core.frame.DataFrame'>\n",
      "RangeIndex: 6803 entries, 0 to 6802\n",
      "Data columns (total 22 columns):\n",
      " #   Column                       Non-Null Count  Dtype  \n",
      "---  ------                       --------------  -----  \n",
      " 0   host_id                      6803 non-null   int64  \n",
      " 1   host_location                4882 non-null   object \n",
      " 2   latitude                     6803 non-null   float64\n",
      " 3   longitude                    6803 non-null   float64\n",
      " 4   host_since                   6802 non-null   object \n",
      " 5   host_is_superhost            6677 non-null   object \n",
      " 6   property_type                6803 non-null   object \n",
      " 7   room_type                    6803 non-null   object \n",
      " 8   accommodates                 6803 non-null   int64  \n",
      " 9   bathrooms                    5970 non-null   float64\n",
      " 10  bedrooms                     6633 non-null   float64\n",
      " 11  beds                         5961 non-null   float64\n",
      " 12  amenities                    6803 non-null   object \n",
      " 13  price                        5975 non-null   object \n",
      " 14  availability_365             6803 non-null   int64  \n",
      " 15  number_of_reviews            6803 non-null   int64  \n",
      " 16  estimated_occupancy_l365d    6803 non-null   int64  \n",
      " 17  review_scores_rating         5951 non-null   float64\n",
      " 18  review_scores_cleanliness    5951 non-null   float64\n",
      " 19  review_scores_checkin        5951 non-null   float64\n",
      " 20  review_scores_communication  5951 non-null   float64\n",
      " 21  review_scores_location       5951 non-null   float64\n",
      "dtypes: float64(10), int64(5), object(7)\n",
      "memory usage: 1.1+ MB\n"
     ]
    }
   ],
   "source": [
    "df_filtered.info()"
   ]
  },
  {
   "cell_type": "markdown",
   "id": "f9b97834-489c-4340-894f-4d02251a618c",
   "metadata": {},
   "source": [
    "As we can observe, the dataset contains several columns with missing values and a variety of data types.\n",
    "Our next step will be to examine each column individually to assess the nature of the missing data. Based on this evaluation, we will decide whether to remove the NaN values or impute new ones to ensure the integrity of the DataFrame."
   ]
  },
  {
   "cell_type": "markdown",
   "id": "4fe8443b-4bac-498e-873d-dfc5851714cf",
   "metadata": {},
   "source": [
    "#### 1.3 Cleaning and preparing the data"
   ]
  },
  {
   "cell_type": "markdown",
   "id": "ae5e18ab-b817-4a7d-a9f4-613dad88aa1e",
   "metadata": {},
   "source": [
    "##### **Host_id:** Since we only want to consider properties that are properly associated with a host, we decided to drop the rows, which will serve as the foundation for analyzing the remaining columns."
   ]
  },
  {
   "cell_type": "code",
   "execution_count": 433,
   "id": "2857c422-138d-4946-9bf2-4ad358963a9d",
   "metadata": {},
   "outputs": [
    {
     "data": {
      "text/plain": [
       "(3386, 22)"
      ]
     },
     "execution_count": 433,
     "metadata": {},
     "output_type": "execute_result"
    }
   ],
   "source": [
    "df_filtered = df_filtered[(df_filtered[\"host_id\"] != 0) & (df_filtered[\"host_id\"].dropna())]\n",
    "df_filtered.shape"
   ]
  },
  {
   "cell_type": "markdown",
   "id": "f201296d-55ce-4438-836d-70d220103bab",
   "metadata": {},
   "source": [
    "The number of host_id to be consider is **3386**. This means that a maximum of 3386 rows will be consider in our study."
   ]
  },
  {
   "cell_type": "markdown",
   "id": "68642e46-3d9e-4b89-8261-670e60eca4db",
   "metadata": {},
   "source": [
    "##### **host_location:** Lets have a look at the locations"
   ]
  },
  {
   "cell_type": "code",
   "execution_count": 434,
   "id": "0f0461a1-cb57-45be-b0af-2714a878f0b0",
   "metadata": {
    "scrolled": true
   },
   "outputs": [
    {
     "name": "stdout",
     "output_type": "stream",
     "text": [
      "<class 'pandas.core.frame.DataFrame'>\n",
      "Index: 3386 entries, 1 to 6802\n",
      "Data columns (total 22 columns):\n",
      " #   Column                       Non-Null Count  Dtype  \n",
      "---  ------                       --------------  -----  \n",
      " 0   host_id                      3386 non-null   int64  \n",
      " 1   host_location                2472 non-null   object \n",
      " 2   latitude                     3386 non-null   float64\n",
      " 3   longitude                    3386 non-null   float64\n",
      " 4   host_since                   3386 non-null   object \n",
      " 5   host_is_superhost            3321 non-null   object \n",
      " 6   property_type                3386 non-null   object \n",
      " 7   room_type                    3386 non-null   object \n",
      " 8   accommodates                 3386 non-null   int64  \n",
      " 9   bathrooms                    2963 non-null   float64\n",
      " 10  bedrooms                     3314 non-null   float64\n",
      " 11  beds                         2956 non-null   float64\n",
      " 12  amenities                    3386 non-null   object \n",
      " 13  price                        2967 non-null   object \n",
      " 14  availability_365             3386 non-null   int64  \n",
      " 15  number_of_reviews            3386 non-null   int64  \n",
      " 16  estimated_occupancy_l365d    3386 non-null   int64  \n",
      " 17  review_scores_rating         2924 non-null   float64\n",
      " 18  review_scores_cleanliness    2924 non-null   float64\n",
      " 19  review_scores_checkin        2924 non-null   float64\n",
      " 20  review_scores_communication  2924 non-null   float64\n",
      " 21  review_scores_location       2924 non-null   float64\n",
      "dtypes: float64(10), int64(5), object(7)\n",
      "memory usage: 608.4+ KB\n"
     ]
    }
   ],
   "source": [
    "df_filtered.info()"
   ]
  },
  {
   "cell_type": "code",
   "execution_count": 435,
   "id": "cdebd59d-6424-4915-bba3-e0b44dcddbc2",
   "metadata": {},
   "outputs": [
    {
     "data": {
      "text/plain": [
       "(914, 22)"
      ]
     },
     "execution_count": 435,
     "metadata": {},
     "output_type": "execute_result"
    }
   ],
   "source": [
    "df_filtered[(df_filtered[\"host_location\"].isna())].shape"
   ]
  },
  {
   "cell_type": "markdown",
   "id": "be61bc1c-e84b-4d7b-9288-b39170b38296",
   "metadata": {},
   "source": [
    "We can see that there are 914 NaN values (3386 - 2472) that need to be analyzed in detail.\n",
    "If the locations are not there, maybe we can use the latitude and longitude to find out the missing locations."
   ]
  },
  {
   "cell_type": "code",
   "execution_count": 436,
   "id": "112ddc5a-0ba9-4c6b-a792-aa0187ee29f2",
   "metadata": {},
   "outputs": [
    {
     "data": {
      "text/html": [
       "<div>\n",
       "<style scoped>\n",
       "    .dataframe tbody tr th:only-of-type {\n",
       "        vertical-align: middle;\n",
       "    }\n",
       "\n",
       "    .dataframe tbody tr th {\n",
       "        vertical-align: top;\n",
       "    }\n",
       "\n",
       "    .dataframe thead th {\n",
       "        text-align: right;\n",
       "    }\n",
       "</style>\n",
       "<table border=\"1\" class=\"dataframe\">\n",
       "  <thead>\n",
       "    <tr style=\"text-align: right;\">\n",
       "      <th></th>\n",
       "      <th>host_id</th>\n",
       "      <th>latitude</th>\n",
       "      <th>longitude</th>\n",
       "    </tr>\n",
       "  </thead>\n",
       "  <tbody>\n",
       "    <tr>\n",
       "      <th>count</th>\n",
       "      <td>9.140000e+02</td>\n",
       "      <td>914.000000</td>\n",
       "      <td>914.000000</td>\n",
       "    </tr>\n",
       "    <tr>\n",
       "      <th>mean</th>\n",
       "      <td>4.041047e+08</td>\n",
       "      <td>43.259853</td>\n",
       "      <td>-2.589842</td>\n",
       "    </tr>\n",
       "    <tr>\n",
       "      <th>std</th>\n",
       "      <td>1.706242e+08</td>\n",
       "      <td>0.148354</td>\n",
       "      <td>0.414347</td>\n",
       "    </tr>\n",
       "    <tr>\n",
       "      <th>min</th>\n",
       "      <td>7.600870e+05</td>\n",
       "      <td>42.487640</td>\n",
       "      <td>-3.437597</td>\n",
       "    </tr>\n",
       "    <tr>\n",
       "      <th>25%</th>\n",
       "      <td>2.813737e+08</td>\n",
       "      <td>43.255510</td>\n",
       "      <td>-2.930903</td>\n",
       "    </tr>\n",
       "    <tr>\n",
       "      <th>50%</th>\n",
       "      <td>4.506725e+08</td>\n",
       "      <td>43.286430</td>\n",
       "      <td>-2.721175</td>\n",
       "    </tr>\n",
       "    <tr>\n",
       "      <th>75%</th>\n",
       "      <td>5.170170e+08</td>\n",
       "      <td>43.323530</td>\n",
       "      <td>-2.166655</td>\n",
       "    </tr>\n",
       "    <tr>\n",
       "      <th>max</th>\n",
       "      <td>6.855334e+08</td>\n",
       "      <td>43.435740</td>\n",
       "      <td>-1.775680</td>\n",
       "    </tr>\n",
       "  </tbody>\n",
       "</table>\n",
       "</div>"
      ],
      "text/plain": [
       "            host_id    latitude   longitude\n",
       "count  9.140000e+02  914.000000  914.000000\n",
       "mean   4.041047e+08   43.259853   -2.589842\n",
       "std    1.706242e+08    0.148354    0.414347\n",
       "min    7.600870e+05   42.487640   -3.437597\n",
       "25%    2.813737e+08   43.255510   -2.930903\n",
       "50%    4.506725e+08   43.286430   -2.721175\n",
       "75%    5.170170e+08   43.323530   -2.166655\n",
       "max    6.855334e+08   43.435740   -1.775680"
      ]
     },
     "execution_count": 436,
     "metadata": {},
     "output_type": "execute_result"
    }
   ],
   "source": [
    "df_locations = df_filtered[(df_filtered[\"host_location\"].isna())]\n",
    "df_locations = df_locations[[\"host_id\",\"host_location\",\"latitude\",\"longitude\"]]\n",
    "df_locations.describe()"
   ]
  },
  {
   "cell_type": "markdown",
   "id": "eb8aa134-2197-474a-9867-0f46313b31d1",
   "metadata": {},
   "source": [
    "We observed that **914** rows with missing location values have very similar latitude and longitude coordinates. This suggests that either all these properties are located in the same place, or the coordinates do not reflect their true locations.\n",
    "\n",
    "By examining the average latitude and longitude on Google Maps, we found that they point to an area near Munitibar-Arbatzegi Gerrikaitz (Spain), which appears to be a sparsely populated region with only a few houses.\n",
    "\n",
    "This led us to conclude that **these coordinates are not representative of reality** and **can therefore be excluded from our dataset.**"
   ]
  },
  {
   "cell_type": "code",
   "execution_count": 437,
   "id": "c4e012a7-6d25-49a7-971c-1585866b531c",
   "metadata": {},
   "outputs": [
    {
     "name": "stdout",
     "output_type": "stream",
     "text": [
      "<class 'pandas.core.frame.DataFrame'>\n",
      "Index: 2472 entries, 1 to 6802\n",
      "Data columns (total 22 columns):\n",
      " #   Column                       Non-Null Count  Dtype  \n",
      "---  ------                       --------------  -----  \n",
      " 0   host_id                      2472 non-null   int64  \n",
      " 1   host_location                2472 non-null   object \n",
      " 2   latitude                     2472 non-null   float64\n",
      " 3   longitude                    2472 non-null   float64\n",
      " 4   host_since                   2472 non-null   object \n",
      " 5   host_is_superhost            2420 non-null   object \n",
      " 6   property_type                2472 non-null   object \n",
      " 7   room_type                    2472 non-null   object \n",
      " 8   accommodates                 2472 non-null   int64  \n",
      " 9   bathrooms                    2188 non-null   float64\n",
      " 10  bedrooms                     2419 non-null   float64\n",
      " 11  beds                         2183 non-null   float64\n",
      " 12  amenities                    2472 non-null   object \n",
      " 13  price                        2189 non-null   object \n",
      " 14  availability_365             2472 non-null   int64  \n",
      " 15  number_of_reviews            2472 non-null   int64  \n",
      " 16  estimated_occupancy_l365d    2472 non-null   int64  \n",
      " 17  review_scores_rating         2190 non-null   float64\n",
      " 18  review_scores_cleanliness    2190 non-null   float64\n",
      " 19  review_scores_checkin        2190 non-null   float64\n",
      " 20  review_scores_communication  2190 non-null   float64\n",
      " 21  review_scores_location       2190 non-null   float64\n",
      "dtypes: float64(10), int64(5), object(7)\n",
      "memory usage: 444.2+ KB\n"
     ]
    }
   ],
   "source": [
    "df_filtered = df_filtered[~df_filtered[\"host_location\"].isna()]\n",
    "df_filtered.info()"
   ]
  },
  {
   "cell_type": "markdown",
   "id": "3d8cca87-7a71-4cfa-9369-59c6355ca412",
   "metadata": {},
   "source": [
    "##### **Bathrooms,bedrooms,beds:** Now we want to consider only the properties that have usefull data for this attributes."
   ]
  },
  {
   "cell_type": "code",
   "execution_count": 438,
   "id": "287608d7-2b9a-4b00-8452-696080420459",
   "metadata": {},
   "outputs": [
    {
     "name": "stdout",
     "output_type": "stream",
     "text": [
      "<class 'pandas.core.frame.DataFrame'>\n",
      "Index: 2182 entries, 1 to 6802\n",
      "Data columns (total 22 columns):\n",
      " #   Column                       Non-Null Count  Dtype  \n",
      "---  ------                       --------------  -----  \n",
      " 0   host_id                      2182 non-null   int64  \n",
      " 1   host_location                2182 non-null   object \n",
      " 2   latitude                     2182 non-null   float64\n",
      " 3   longitude                    2182 non-null   float64\n",
      " 4   host_since                   2182 non-null   object \n",
      " 5   host_is_superhost            2140 non-null   object \n",
      " 6   property_type                2182 non-null   object \n",
      " 7   room_type                    2182 non-null   object \n",
      " 8   accommodates                 2182 non-null   int64  \n",
      " 9   bathrooms                    2182 non-null   float64\n",
      " 10  bedrooms                     2182 non-null   float64\n",
      " 11  beds                         2182 non-null   float64\n",
      " 12  amenities                    2182 non-null   object \n",
      " 13  price                        2181 non-null   object \n",
      " 14  availability_365             2182 non-null   int64  \n",
      " 15  number_of_reviews            2182 non-null   int64  \n",
      " 16  estimated_occupancy_l365d    2182 non-null   int64  \n",
      " 17  review_scores_rating         1949 non-null   float64\n",
      " 18  review_scores_cleanliness    1949 non-null   float64\n",
      " 19  review_scores_checkin        1949 non-null   float64\n",
      " 20  review_scores_communication  1949 non-null   float64\n",
      " 21  review_scores_location       1949 non-null   float64\n",
      "dtypes: float64(10), int64(5), object(7)\n",
      "memory usage: 392.1+ KB\n"
     ]
    }
   ],
   "source": [
    "df_filtered = df_filtered[(~df_filtered[\"bathrooms\"].isna())&(~df_filtered[\"bedrooms\"].isna())&(~df_filtered[\"beds\"].isna())]\n",
    "df_filtered.info()"
   ]
  },
  {
   "cell_type": "markdown",
   "id": "19794857-524f-43ea-82df-9e424b8818c9",
   "metadata": {},
   "source": [
    "At this stage, things have become clearer. Although we don't have reviews for all entries—only 1,949 out of a total of 2,182—we can still move forward with our analysis. The available data provides a sufficient foundation for continuing our study."
   ]
  },
  {
   "cell_type": "markdown",
   "id": "3e030ee6-a3ed-4ac7-9ad6-382e642c9902",
   "metadata": {},
   "source": [
    "### 2 Questions  "
   ]
  },
  {
   "cell_type": "markdown",
   "id": "b31f857e-607f-4ccb-9a61-7a274133706b",
   "metadata": {
    "jp-MarkdownHeadingCollapsed": true
   },
   "source": [
    "#### Question 1: Which areas have the highest occupancy rate throughout the year?"
   ]
  },
  {
   "cell_type": "markdown",
   "id": "160d588e-a6a5-4633-8907-9cdf815966f0",
   "metadata": {},
   "source": [
    "To begin, we need to know how many different locations we have and then try to filter our data frame until we get the top 10% of the locations with the highest occupancy."
   ]
  },
  {
   "cell_type": "code",
   "execution_count": 439,
   "id": "f0fd9fd8-1d66-413e-842e-4becd325aa26",
   "metadata": {},
   "outputs": [
    {
     "data": {
      "text/plain": [
       "(174,)"
      ]
     },
     "execution_count": 439,
     "metadata": {},
     "output_type": "execute_result"
    }
   ],
   "source": [
    "df_filtered[\"host_location\"].unique().shape"
   ]
  },
  {
   "cell_type": "markdown",
   "id": "201cbfb7-0bcb-485d-aeee-07a21b24c21b",
   "metadata": {},
   "source": [
    "**174** is the total number of unique locations in our data frame.\n",
    "Let's check now the values for the columns **estimated_occupancy_l365d**."
   ]
  },
  {
   "cell_type": "code",
   "execution_count": 440,
   "id": "f1939904-ac7a-4812-9596-6a935b241010",
   "metadata": {},
   "outputs": [
    {
     "data": {
      "text/plain": [
       "count    2182.000000\n",
       "mean       76.131072\n",
       "std        85.061982\n",
       "min         0.000000\n",
       "25%         6.000000\n",
       "50%        42.000000\n",
       "75%       114.000000\n",
       "max       255.000000\n",
       "Name: estimated_occupancy_l365d, dtype: float64"
      ]
     },
     "execution_count": 440,
     "metadata": {},
     "output_type": "execute_result"
    }
   ],
   "source": [
    "df_filtered[\"estimated_occupancy_l365d\"].describe()"
   ]
  },
  {
   "cell_type": "markdown",
   "id": "810906ff-16c1-4785-85fe-600f6c145c70",
   "metadata": {},
   "source": [
    "We can observe that the maximum days booked for a certain location in Euskadi is 255 days/year.\n",
    "Now we just have to filter these locations and reduce the result to the locations with **255days/year.**"
   ]
  },
  {
   "cell_type": "code",
   "execution_count": 441,
   "id": "83f06890-e5bd-4dc7-b839-8cc4169bba8e",
   "metadata": {},
   "outputs": [
    {
     "data": {
      "text/plain": [
       "(220, 22)"
      ]
     },
     "execution_count": 441,
     "metadata": {},
     "output_type": "execute_result"
    }
   ],
   "source": [
    "df_locations = df_filtered[df_filtered[\"estimated_occupancy_l365d\"]==255]\n",
    "df_locations.shape"
   ]
  },
  {
   "cell_type": "code",
   "execution_count": 442,
   "id": "2fd49e1d-a0a5-466e-b821-d9cc53e5b815",
   "metadata": {},
   "outputs": [
    {
     "data": {
      "text/plain": [
       "(35,)"
      ]
     },
     "execution_count": 442,
     "metadata": {},
     "output_type": "execute_result"
    }
   ],
   "source": [
    "df_locations[\"host_location\"].unique().shape"
   ]
  },
  {
   "cell_type": "code",
   "execution_count": 443,
   "id": "1649fbf0-c04e-4142-a4a7-907788b88591",
   "metadata": {
    "scrolled": true
   },
   "outputs": [
    {
     "data": {
      "text/plain": [
       "array(['Bilbao, Spain', 'Donostia-San Sebastián, Spain',\n",
       "       'Donostia-San Sebastian, Spain', 'San Sebastián, Spain',\n",
       "       'Urnieta, Spain', 'Orio, Spain', 'Berreaga-Mendi, Spain', 'Spain',\n",
       "       'Sopelana, Spain', 'Basque Country, Spain', 'Pasaia, Spain',\n",
       "       'Vitoria-Gasteiz, Spain', 'Calahorra, Spain', 'Getxo, Spain',\n",
       "       'Guernica, Spain', 'Donostia, Spain', 'Bermeo, Spain',\n",
       "       'Usurbil, Spain', 'Zizurkil, Spain', 'Madrid, Spain',\n",
       "       'Barakaldo, Spain', 'Pamplona, Spain', 'Berastegi, Spain',\n",
       "       'Oiartzun, Spain', 'Gasteiz, Spain', 'Beasain, Spain',\n",
       "       'West Hollywood, CA', 'Aramaio, Spain', 'Zumaia, Spain',\n",
       "       'Sestao, Spain', 'Elgoibar, Spain',\n",
       "       'Donostia / San Sebastián, Spain', 'Areatza, Spain',\n",
       "       'Hendaye, France', 'Irun, Spain'], dtype=object)"
      ]
     },
     "execution_count": 443,
     "metadata": {},
     "output_type": "execute_result"
    }
   ],
   "source": [
    "df_locations[\"host_location\"].unique()"
   ]
  },
  {
   "cell_type": "markdown",
   "id": "cd624f66-ae59-4dc0-a42b-643b70d118c5",
   "metadata": {},
   "source": [
    "**Conclusion: There are 35 locations with an estimated occupation of 255 day per year in Euskadi (see locations above)**"
   ]
  },
  {
   "cell_type": "markdown",
   "id": "03439414-ed1d-490b-b7fb-449edb2eb35d",
   "metadata": {
    "jp-MarkdownHeadingCollapsed": true
   },
   "source": [
    "#### Question 2: Which areas in Euskadi show the highest demand relative to the number of available accommodations, indicating that demand significantly exceeds supply?"
   ]
  },
  {
   "cell_type": "markdown",
   "id": "8d122f9e-27c1-439d-a02e-4cca0d7dc113",
   "metadata": {},
   "source": [
    "For this question we are looking for the highest value in ratio **demand/availavility**.  \n",
    "So we have to create a new column that represents this value for each location on the list (**estimated_occupancy_l365d/availability_365**)"
   ]
  },
  {
   "cell_type": "code",
   "execution_count": 444,
   "id": "7d4899c7-a951-48ae-9ba8-7bf67d8018f7",
   "metadata": {},
   "outputs": [
    {
     "data": {
      "text/plain": [
       "(200, 22)"
      ]
     },
     "execution_count": 444,
     "metadata": {},
     "output_type": "execute_result"
    }
   ],
   "source": [
    "#Lets eliminate first the rows with availability = 0. Since this properties are not available anymore.\n",
    "df_demand = df_filtered.loc[(df_filtered[\"availability_365\"]!=0)&(df_filtered[\"availability_365\"].notna())&(df_filtered[\"estimated_occupancy_l365d\"]!=0)&(df_filtered[\"estimated_occupancy_l365d\"].dropna())].copy()\n",
    "df_demand.shape"
   ]
  },
  {
   "cell_type": "markdown",
   "id": "9dcccada-20e9-4df8-bf96-ceda7ac3fd84",
   "metadata": {},
   "source": [
    "After droping the estimated_occupancy_l365d and availability_365 with values equal to 0 or NaN, we end up with **95** values.  \n",
    "These are the entries to consider in our study."
   ]
  },
  {
   "cell_type": "code",
   "execution_count": 445,
   "id": "357a7889-2bc9-4588-99c7-c56be9737bb1",
   "metadata": {},
   "outputs": [
    {
     "data": {
      "text/html": [
       "<div>\n",
       "<style scoped>\n",
       "    .dataframe tbody tr th:only-of-type {\n",
       "        vertical-align: middle;\n",
       "    }\n",
       "\n",
       "    .dataframe tbody tr th {\n",
       "        vertical-align: top;\n",
       "    }\n",
       "\n",
       "    .dataframe thead th {\n",
       "        text-align: right;\n",
       "    }\n",
       "</style>\n",
       "<table border=\"1\" class=\"dataframe\">\n",
       "  <thead>\n",
       "    <tr style=\"text-align: right;\">\n",
       "      <th></th>\n",
       "      <th>host_id</th>\n",
       "      <th>host_location</th>\n",
       "      <th>latitude</th>\n",
       "      <th>longitude</th>\n",
       "      <th>host_since</th>\n",
       "      <th>host_is_superhost</th>\n",
       "      <th>property_type</th>\n",
       "      <th>room_type</th>\n",
       "      <th>accommodates</th>\n",
       "      <th>bathrooms</th>\n",
       "      <th>...</th>\n",
       "      <th>price</th>\n",
       "      <th>availability_365</th>\n",
       "      <th>number_of_reviews</th>\n",
       "      <th>estimated_occupancy_l365d</th>\n",
       "      <th>review_scores_rating</th>\n",
       "      <th>review_scores_cleanliness</th>\n",
       "      <th>review_scores_checkin</th>\n",
       "      <th>review_scores_communication</th>\n",
       "      <th>review_scores_location</th>\n",
       "      <th>demand</th>\n",
       "    </tr>\n",
       "  </thead>\n",
       "  <tbody>\n",
       "    <tr>\n",
       "      <th>52</th>\n",
       "      <td>7238197</td>\n",
       "      <td>Bilbao, Spain</td>\n",
       "      <td>43.257420</td>\n",
       "      <td>-2.924200</td>\n",
       "      <td>2013-07-02</td>\n",
       "      <td>NaN</td>\n",
       "      <td>Entire rental unit</td>\n",
       "      <td>Entire home/apt</td>\n",
       "      <td>3</td>\n",
       "      <td>1.0</td>\n",
       "      <td>...</td>\n",
       "      <td>$106.00</td>\n",
       "      <td>240</td>\n",
       "      <td>294</td>\n",
       "      <td>255</td>\n",
       "      <td>4.94</td>\n",
       "      <td>4.98</td>\n",
       "      <td>4.89</td>\n",
       "      <td>4.93</td>\n",
       "      <td>4.95</td>\n",
       "      <td>1.062500</td>\n",
       "    </tr>\n",
       "    <tr>\n",
       "      <th>54</th>\n",
       "      <td>7270859</td>\n",
       "      <td>Donostia-San Sebastián, Spain</td>\n",
       "      <td>43.322230</td>\n",
       "      <td>-1.982310</td>\n",
       "      <td>2013-07-03</td>\n",
       "      <td>t</td>\n",
       "      <td>Private room in rental unit</td>\n",
       "      <td>Private room</td>\n",
       "      <td>3</td>\n",
       "      <td>2.0</td>\n",
       "      <td>...</td>\n",
       "      <td>$77.00</td>\n",
       "      <td>10</td>\n",
       "      <td>327</td>\n",
       "      <td>255</td>\n",
       "      <td>5.00</td>\n",
       "      <td>5.00</td>\n",
       "      <td>4.99</td>\n",
       "      <td>5.00</td>\n",
       "      <td>4.99</td>\n",
       "      <td>25.500000</td>\n",
       "    </tr>\n",
       "    <tr>\n",
       "      <th>127</th>\n",
       "      <td>16228557</td>\n",
       "      <td>Donostia-San Sebastian, Spain</td>\n",
       "      <td>43.324360</td>\n",
       "      <td>-1.963910</td>\n",
       "      <td>2014-06-01</td>\n",
       "      <td>t</td>\n",
       "      <td>Private room in villa</td>\n",
       "      <td>Private room</td>\n",
       "      <td>3</td>\n",
       "      <td>1.0</td>\n",
       "      <td>...</td>\n",
       "      <td>$61.00</td>\n",
       "      <td>249</td>\n",
       "      <td>597</td>\n",
       "      <td>255</td>\n",
       "      <td>4.82</td>\n",
       "      <td>4.90</td>\n",
       "      <td>4.91</td>\n",
       "      <td>4.94</td>\n",
       "      <td>4.78</td>\n",
       "      <td>1.024096</td>\n",
       "    </tr>\n",
       "    <tr>\n",
       "      <th>160</th>\n",
       "      <td>12336523</td>\n",
       "      <td>Bilbao, Spain</td>\n",
       "      <td>43.251820</td>\n",
       "      <td>-2.932390</td>\n",
       "      <td>2014-02-17</td>\n",
       "      <td>f</td>\n",
       "      <td>Entire rental unit</td>\n",
       "      <td>Entire home/apt</td>\n",
       "      <td>3</td>\n",
       "      <td>1.0</td>\n",
       "      <td>...</td>\n",
       "      <td>$92.00</td>\n",
       "      <td>49</td>\n",
       "      <td>639</td>\n",
       "      <td>255</td>\n",
       "      <td>4.64</td>\n",
       "      <td>4.74</td>\n",
       "      <td>4.76</td>\n",
       "      <td>4.85</td>\n",
       "      <td>4.29</td>\n",
       "      <td>5.204082</td>\n",
       "    </tr>\n",
       "    <tr>\n",
       "      <th>206</th>\n",
       "      <td>10718635</td>\n",
       "      <td>Bilbao, Spain</td>\n",
       "      <td>43.254500</td>\n",
       "      <td>-2.923880</td>\n",
       "      <td>2013-12-19</td>\n",
       "      <td>t</td>\n",
       "      <td>Private room in rental unit</td>\n",
       "      <td>Private room</td>\n",
       "      <td>2</td>\n",
       "      <td>1.0</td>\n",
       "      <td>...</td>\n",
       "      <td>$73.00</td>\n",
       "      <td>282</td>\n",
       "      <td>491</td>\n",
       "      <td>255</td>\n",
       "      <td>4.76</td>\n",
       "      <td>4.79</td>\n",
       "      <td>4.82</td>\n",
       "      <td>4.86</td>\n",
       "      <td>4.84</td>\n",
       "      <td>0.904255</td>\n",
       "    </tr>\n",
       "    <tr>\n",
       "      <th>...</th>\n",
       "      <td>...</td>\n",
       "      <td>...</td>\n",
       "      <td>...</td>\n",
       "      <td>...</td>\n",
       "      <td>...</td>\n",
       "      <td>...</td>\n",
       "      <td>...</td>\n",
       "      <td>...</td>\n",
       "      <td>...</td>\n",
       "      <td>...</td>\n",
       "      <td>...</td>\n",
       "      <td>...</td>\n",
       "      <td>...</td>\n",
       "      <td>...</td>\n",
       "      <td>...</td>\n",
       "      <td>...</td>\n",
       "      <td>...</td>\n",
       "      <td>...</td>\n",
       "      <td>...</td>\n",
       "      <td>...</td>\n",
       "      <td>...</td>\n",
       "    </tr>\n",
       "    <tr>\n",
       "      <th>5935</th>\n",
       "      <td>236286471</td>\n",
       "      <td>Hendaye, France</td>\n",
       "      <td>43.343290</td>\n",
       "      <td>-1.766640</td>\n",
       "      <td>2019-01-13</td>\n",
       "      <td>t</td>\n",
       "      <td>Private room in home</td>\n",
       "      <td>Private room</td>\n",
       "      <td>3</td>\n",
       "      <td>1.0</td>\n",
       "      <td>...</td>\n",
       "      <td>$34.00</td>\n",
       "      <td>351</td>\n",
       "      <td>64</td>\n",
       "      <td>255</td>\n",
       "      <td>4.94</td>\n",
       "      <td>4.98</td>\n",
       "      <td>4.95</td>\n",
       "      <td>4.94</td>\n",
       "      <td>4.70</td>\n",
       "      <td>0.726496</td>\n",
       "    </tr>\n",
       "    <tr>\n",
       "      <th>5999</th>\n",
       "      <td>29271895</td>\n",
       "      <td>San Sebastián, Spain</td>\n",
       "      <td>43.309950</td>\n",
       "      <td>-1.980310</td>\n",
       "      <td>2015-03-13</td>\n",
       "      <td>t</td>\n",
       "      <td>Entire rental unit</td>\n",
       "      <td>Entire home/apt</td>\n",
       "      <td>6</td>\n",
       "      <td>2.0</td>\n",
       "      <td>...</td>\n",
       "      <td>$193.00</td>\n",
       "      <td>217</td>\n",
       "      <td>55</td>\n",
       "      <td>255</td>\n",
       "      <td>4.95</td>\n",
       "      <td>4.91</td>\n",
       "      <td>4.89</td>\n",
       "      <td>4.96</td>\n",
       "      <td>4.76</td>\n",
       "      <td>1.175115</td>\n",
       "    </tr>\n",
       "    <tr>\n",
       "      <th>6001</th>\n",
       "      <td>366242627</td>\n",
       "      <td>Bilbao, Spain</td>\n",
       "      <td>43.271178</td>\n",
       "      <td>-2.969922</td>\n",
       "      <td>2020-09-06</td>\n",
       "      <td>f</td>\n",
       "      <td>Entire rental unit</td>\n",
       "      <td>Entire home/apt</td>\n",
       "      <td>4</td>\n",
       "      <td>1.0</td>\n",
       "      <td>...</td>\n",
       "      <td>$64.00</td>\n",
       "      <td>243</td>\n",
       "      <td>43</td>\n",
       "      <td>255</td>\n",
       "      <td>4.79</td>\n",
       "      <td>4.93</td>\n",
       "      <td>4.77</td>\n",
       "      <td>4.91</td>\n",
       "      <td>4.16</td>\n",
       "      <td>1.049383</td>\n",
       "    </tr>\n",
       "    <tr>\n",
       "      <th>6090</th>\n",
       "      <td>19371177</td>\n",
       "      <td>Irun, Spain</td>\n",
       "      <td>43.332820</td>\n",
       "      <td>-1.827440</td>\n",
       "      <td>2014-08-03</td>\n",
       "      <td>t</td>\n",
       "      <td>Entire rental unit</td>\n",
       "      <td>Entire home/apt</td>\n",
       "      <td>2</td>\n",
       "      <td>1.0</td>\n",
       "      <td>...</td>\n",
       "      <td>$50.00</td>\n",
       "      <td>26</td>\n",
       "      <td>57</td>\n",
       "      <td>255</td>\n",
       "      <td>4.86</td>\n",
       "      <td>4.84</td>\n",
       "      <td>4.70</td>\n",
       "      <td>4.98</td>\n",
       "      <td>4.70</td>\n",
       "      <td>9.807692</td>\n",
       "    </tr>\n",
       "    <tr>\n",
       "      <th>6342</th>\n",
       "      <td>99338303</td>\n",
       "      <td>Bilbao, Spain</td>\n",
       "      <td>43.253270</td>\n",
       "      <td>-2.918507</td>\n",
       "      <td>2016-10-12</td>\n",
       "      <td>t</td>\n",
       "      <td>Entire rental unit</td>\n",
       "      <td>Entire home/apt</td>\n",
       "      <td>3</td>\n",
       "      <td>1.0</td>\n",
       "      <td>...</td>\n",
       "      <td>$77.00</td>\n",
       "      <td>161</td>\n",
       "      <td>69</td>\n",
       "      <td>255</td>\n",
       "      <td>4.86</td>\n",
       "      <td>4.86</td>\n",
       "      <td>4.75</td>\n",
       "      <td>4.94</td>\n",
       "      <td>4.74</td>\n",
       "      <td>1.583851</td>\n",
       "    </tr>\n",
       "  </tbody>\n",
       "</table>\n",
       "<p>200 rows × 23 columns</p>\n",
       "</div>"
      ],
      "text/plain": [
       "        host_id                  host_location   latitude  longitude  \\\n",
       "52      7238197                  Bilbao, Spain  43.257420  -2.924200   \n",
       "54      7270859  Donostia-San Sebastián, Spain  43.322230  -1.982310   \n",
       "127    16228557  Donostia-San Sebastian, Spain  43.324360  -1.963910   \n",
       "160    12336523                  Bilbao, Spain  43.251820  -2.932390   \n",
       "206    10718635                  Bilbao, Spain  43.254500  -2.923880   \n",
       "...         ...                            ...        ...        ...   \n",
       "5935  236286471                Hendaye, France  43.343290  -1.766640   \n",
       "5999   29271895           San Sebastián, Spain  43.309950  -1.980310   \n",
       "6001  366242627                  Bilbao, Spain  43.271178  -2.969922   \n",
       "6090   19371177                    Irun, Spain  43.332820  -1.827440   \n",
       "6342   99338303                  Bilbao, Spain  43.253270  -2.918507   \n",
       "\n",
       "      host_since host_is_superhost                property_type  \\\n",
       "52    2013-07-02               NaN           Entire rental unit   \n",
       "54    2013-07-03                 t  Private room in rental unit   \n",
       "127   2014-06-01                 t        Private room in villa   \n",
       "160   2014-02-17                 f           Entire rental unit   \n",
       "206   2013-12-19                 t  Private room in rental unit   \n",
       "...          ...               ...                          ...   \n",
       "5935  2019-01-13                 t         Private room in home   \n",
       "5999  2015-03-13                 t           Entire rental unit   \n",
       "6001  2020-09-06                 f           Entire rental unit   \n",
       "6090  2014-08-03                 t           Entire rental unit   \n",
       "6342  2016-10-12                 t           Entire rental unit   \n",
       "\n",
       "            room_type  accommodates  bathrooms  ...    price  \\\n",
       "52    Entire home/apt             3        1.0  ...  $106.00   \n",
       "54       Private room             3        2.0  ...   $77.00   \n",
       "127      Private room             3        1.0  ...   $61.00   \n",
       "160   Entire home/apt             3        1.0  ...   $92.00   \n",
       "206      Private room             2        1.0  ...   $73.00   \n",
       "...               ...           ...        ...  ...      ...   \n",
       "5935     Private room             3        1.0  ...   $34.00   \n",
       "5999  Entire home/apt             6        2.0  ...  $193.00   \n",
       "6001  Entire home/apt             4        1.0  ...   $64.00   \n",
       "6090  Entire home/apt             2        1.0  ...   $50.00   \n",
       "6342  Entire home/apt             3        1.0  ...   $77.00   \n",
       "\n",
       "      availability_365 number_of_reviews estimated_occupancy_l365d  \\\n",
       "52                 240               294                       255   \n",
       "54                  10               327                       255   \n",
       "127                249               597                       255   \n",
       "160                 49               639                       255   \n",
       "206                282               491                       255   \n",
       "...                ...               ...                       ...   \n",
       "5935               351                64                       255   \n",
       "5999               217                55                       255   \n",
       "6001               243                43                       255   \n",
       "6090                26                57                       255   \n",
       "6342               161                69                       255   \n",
       "\n",
       "      review_scores_rating  review_scores_cleanliness  review_scores_checkin  \\\n",
       "52                    4.94                       4.98                   4.89   \n",
       "54                    5.00                       5.00                   4.99   \n",
       "127                   4.82                       4.90                   4.91   \n",
       "160                   4.64                       4.74                   4.76   \n",
       "206                   4.76                       4.79                   4.82   \n",
       "...                    ...                        ...                    ...   \n",
       "5935                  4.94                       4.98                   4.95   \n",
       "5999                  4.95                       4.91                   4.89   \n",
       "6001                  4.79                       4.93                   4.77   \n",
       "6090                  4.86                       4.84                   4.70   \n",
       "6342                  4.86                       4.86                   4.75   \n",
       "\n",
       "      review_scores_communication  review_scores_location     demand  \n",
       "52                           4.93                    4.95   1.062500  \n",
       "54                           5.00                    4.99  25.500000  \n",
       "127                          4.94                    4.78   1.024096  \n",
       "160                          4.85                    4.29   5.204082  \n",
       "206                          4.86                    4.84   0.904255  \n",
       "...                           ...                     ...        ...  \n",
       "5935                         4.94                    4.70   0.726496  \n",
       "5999                         4.96                    4.76   1.175115  \n",
       "6001                         4.91                    4.16   1.049383  \n",
       "6090                         4.98                    4.70   9.807692  \n",
       "6342                         4.94                    4.74   1.583851  \n",
       "\n",
       "[200 rows x 23 columns]"
      ]
     },
     "execution_count": 445,
     "metadata": {},
     "output_type": "execute_result"
    }
   ],
   "source": [
    "df_demand[\"demand\"] = df_demand[\"estimated_occupancy_l365d\"] / df_demand[\"availability_365\"]\n",
    "df_demand"
   ]
  },
  {
   "cell_type": "markdown",
   "id": "870967ed-73be-4e8c-a256-23df5dedf193",
   "metadata": {},
   "source": [
    "We can see that the maximum value of the demand-to-availability ratio is **28.33**.  \n",
    "The next step is to identify the specific locations associated with these high-demand entries."
   ]
  },
  {
   "cell_type": "code",
   "execution_count": 446,
   "id": "f861ad5a-4933-4c69-8d3b-4d3730f937af",
   "metadata": {},
   "outputs": [
    {
     "data": {
      "text/plain": [
       "(1,)"
      ]
     },
     "execution_count": 446,
     "metadata": {},
     "output_type": "execute_result"
    }
   ],
   "source": [
    "df_locations = df_demand[df_demand[\"demand\"].round(2) == 28.33][\"host_location\"]\n",
    "df_locations.shape"
   ]
  },
  {
   "cell_type": "code",
   "execution_count": 447,
   "id": "05a7922e-e923-41eb-af27-a0be21fbe256",
   "metadata": {},
   "outputs": [
    {
     "data": {
      "text/plain": [
       "5159    Donostia-San Sebastian, Spain\n",
       "Name: host_location, dtype: object"
      ]
     },
     "execution_count": 447,
     "metadata": {},
     "output_type": "execute_result"
    }
   ],
   "source": [
    "df_locations"
   ]
  },
  {
   "cell_type": "markdown",
   "id": "a3ca3584-e9f5-4fa2-9030-19ad132c99ca",
   "metadata": {},
   "source": [
    "**Conclusion:** The answer to this question is **Donostia (Sans Sebastian), Spain**."
   ]
  },
  {
   "cell_type": "markdown",
   "id": "454bca74-f107-4a1c-bc4a-7bfe5153004a",
   "metadata": {},
   "source": [
    "#### Question 3: What review-related factors are most influential in driving Airbnb property demand, and how should an Airbnb property be designed to maximize its potential demand?"
   ]
  },
  {
   "cell_type": "markdown",
   "id": "a22e16bf-aab3-44a1-a3e7-0834c5d88d26",
   "metadata": {
    "jp-MarkdownHeadingCollapsed": true
   },
   "source": [
    "##### **Preparing the data**"
   ]
  },
  {
   "cell_type": "markdown",
   "id": "f49351e5-7a2a-420c-b005-ebbb4c933944",
   "metadata": {},
   "source": [
    "First, we want to eliminate the NaN values, since they do not contribute to our analysis. We only want to work with rows that contain complete information."
   ]
  },
  {
   "cell_type": "code",
   "execution_count": 448,
   "id": "dfb35755-73e5-461c-af06-b73ec4498246",
   "metadata": {
    "scrolled": true
   },
   "outputs": [
    {
     "name": "stdout",
     "output_type": "stream",
     "text": [
      "<class 'pandas.core.frame.DataFrame'>\n",
      "Index: 2182 entries, 1 to 6802\n",
      "Data columns (total 22 columns):\n",
      " #   Column                       Non-Null Count  Dtype  \n",
      "---  ------                       --------------  -----  \n",
      " 0   host_id                      2182 non-null   int64  \n",
      " 1   host_location                2182 non-null   object \n",
      " 2   latitude                     2182 non-null   float64\n",
      " 3   longitude                    2182 non-null   float64\n",
      " 4   host_since                   2182 non-null   object \n",
      " 5   host_is_superhost            2140 non-null   object \n",
      " 6   property_type                2182 non-null   object \n",
      " 7   room_type                    2182 non-null   object \n",
      " 8   accommodates                 2182 non-null   int64  \n",
      " 9   bathrooms                    2182 non-null   float64\n",
      " 10  bedrooms                     2182 non-null   float64\n",
      " 11  beds                         2182 non-null   float64\n",
      " 12  amenities                    2182 non-null   object \n",
      " 13  price                        2181 non-null   object \n",
      " 14  availability_365             2182 non-null   int64  \n",
      " 15  number_of_reviews            2182 non-null   int64  \n",
      " 16  estimated_occupancy_l365d    2182 non-null   int64  \n",
      " 17  review_scores_rating         1949 non-null   float64\n",
      " 18  review_scores_cleanliness    1949 non-null   float64\n",
      " 19  review_scores_checkin        1949 non-null   float64\n",
      " 20  review_scores_communication  1949 non-null   float64\n",
      " 21  review_scores_location       1949 non-null   float64\n",
      "dtypes: float64(10), int64(5), object(7)\n",
      "memory usage: 392.1+ KB\n"
     ]
    }
   ],
   "source": [
    "df_filtered.info()"
   ]
  },
  {
   "cell_type": "code",
   "execution_count": 449,
   "id": "60c27195-431a-498b-8639-95c9d635af67",
   "metadata": {},
   "outputs": [],
   "source": [
    "df_filtered = df_filtered.dropna()"
   ]
  },
  {
   "cell_type": "markdown",
   "id": "cbc23cb2-4a30-4147-b182-71b6a0fa23e2",
   "metadata": {},
   "source": [
    "Now we want to drop the columns that are not relevant to answer our question."
   ]
  },
  {
   "cell_type": "code",
   "execution_count": 450,
   "id": "fc590d1b-b344-4cdb-98ae-7736bbb3cf5e",
   "metadata": {},
   "outputs": [],
   "source": [
    "df_filtered = df_filtered[[\"host_location\",\"property_type\",\"room_type\",\"accommodates\",\"bathrooms\",\"bedrooms\",\"beds\",\"amenities\",\"price\",\"review_scores_cleanliness\",\"review_scores_checkin\",\"review_scores_communication\",\"review_scores_location\",\"estimated_occupancy_l365d\",\"number_of_reviews\",\"review_scores_rating\"]]"
   ]
  },
  {
   "cell_type": "markdown",
   "id": "31f923c4-72db-4d9b-9875-db4444df1eda",
   "metadata": {},
   "source": [
    "##### **What review-related factors are most influential in driving Airbnb property demand?**"
   ]
  },
  {
   "cell_type": "code",
   "execution_count": 451,
   "id": "88e90f5c-dc89-4fa7-b705-baa86c287afa",
   "metadata": {
    "scrolled": true
   },
   "outputs": [
    {
     "data": {
      "text/plain": [
       "['review_scores_cleanliness',\n",
       " 'review_scores_checkin',\n",
       " 'review_scores_communication',\n",
       " 'review_scores_location',\n",
       " 'review_scores_rating']"
      ]
     },
     "execution_count": 451,
     "metadata": {},
     "output_type": "execute_result"
    }
   ],
   "source": [
    "review_columns = [col for col in df_filtered.columns if col.startswith(\"review\")]\n",
    "review_columns"
   ]
  },
  {
   "cell_type": "code",
   "execution_count": 452,
   "id": "95fb5ab8-2d5a-4033-b904-7d6b842d76dc",
   "metadata": {},
   "outputs": [
    {
     "data": {
      "text/html": [
       "<div>\n",
       "<style scoped>\n",
       "    .dataframe tbody tr th:only-of-type {\n",
       "        vertical-align: middle;\n",
       "    }\n",
       "\n",
       "    .dataframe tbody tr th {\n",
       "        vertical-align: top;\n",
       "    }\n",
       "\n",
       "    .dataframe thead th {\n",
       "        text-align: right;\n",
       "    }\n",
       "</style>\n",
       "<table border=\"1\" class=\"dataframe\">\n",
       "  <thead>\n",
       "    <tr style=\"text-align: right;\">\n",
       "      <th></th>\n",
       "      <th>review_scores_cleanliness</th>\n",
       "      <th>review_scores_checkin</th>\n",
       "      <th>review_scores_communication</th>\n",
       "      <th>review_scores_location</th>\n",
       "      <th>review_scores_rating</th>\n",
       "      <th>number_of_reviews</th>\n",
       "      <th>estimated_occupancy_l365d</th>\n",
       "    </tr>\n",
       "  </thead>\n",
       "  <tbody>\n",
       "    <tr>\n",
       "      <th>1</th>\n",
       "      <td>4.91</td>\n",
       "      <td>4.51</td>\n",
       "      <td>4.63</td>\n",
       "      <td>4.70</td>\n",
       "      <td>4.84</td>\n",
       "      <td>81</td>\n",
       "      <td>60</td>\n",
       "    </tr>\n",
       "    <tr>\n",
       "      <th>2</th>\n",
       "      <td>4.85</td>\n",
       "      <td>4.85</td>\n",
       "      <td>4.92</td>\n",
       "      <td>4.92</td>\n",
       "      <td>4.79</td>\n",
       "      <td>14</td>\n",
       "      <td>248</td>\n",
       "    </tr>\n",
       "    <tr>\n",
       "      <th>3</th>\n",
       "      <td>4.82</td>\n",
       "      <td>4.75</td>\n",
       "      <td>4.71</td>\n",
       "      <td>4.81</td>\n",
       "      <td>4.69</td>\n",
       "      <td>17</td>\n",
       "      <td>248</td>\n",
       "    </tr>\n",
       "    <tr>\n",
       "      <th>4</th>\n",
       "      <td>4.91</td>\n",
       "      <td>4.94</td>\n",
       "      <td>4.94</td>\n",
       "      <td>4.97</td>\n",
       "      <td>4.97</td>\n",
       "      <td>34</td>\n",
       "      <td>124</td>\n",
       "    </tr>\n",
       "    <tr>\n",
       "      <th>5</th>\n",
       "      <td>4.70</td>\n",
       "      <td>4.93</td>\n",
       "      <td>4.84</td>\n",
       "      <td>4.86</td>\n",
       "      <td>4.72</td>\n",
       "      <td>107</td>\n",
       "      <td>224</td>\n",
       "    </tr>\n",
       "    <tr>\n",
       "      <th>...</th>\n",
       "      <td>...</td>\n",
       "      <td>...</td>\n",
       "      <td>...</td>\n",
       "      <td>...</td>\n",
       "      <td>...</td>\n",
       "      <td>...</td>\n",
       "      <td>...</td>\n",
       "    </tr>\n",
       "    <tr>\n",
       "      <th>6658</th>\n",
       "      <td>4.50</td>\n",
       "      <td>4.75</td>\n",
       "      <td>4.75</td>\n",
       "      <td>4.75</td>\n",
       "      <td>4.75</td>\n",
       "      <td>4</td>\n",
       "      <td>24</td>\n",
       "    </tr>\n",
       "    <tr>\n",
       "      <th>6724</th>\n",
       "      <td>5.00</td>\n",
       "      <td>5.00</td>\n",
       "      <td>5.00</td>\n",
       "      <td>5.00</td>\n",
       "      <td>5.00</td>\n",
       "      <td>1</td>\n",
       "      <td>6</td>\n",
       "    </tr>\n",
       "    <tr>\n",
       "      <th>6738</th>\n",
       "      <td>5.00</td>\n",
       "      <td>4.67</td>\n",
       "      <td>5.00</td>\n",
       "      <td>4.33</td>\n",
       "      <td>5.00</td>\n",
       "      <td>3</td>\n",
       "      <td>18</td>\n",
       "    </tr>\n",
       "    <tr>\n",
       "      <th>6745</th>\n",
       "      <td>5.00</td>\n",
       "      <td>5.00</td>\n",
       "      <td>5.00</td>\n",
       "      <td>5.00</td>\n",
       "      <td>5.00</td>\n",
       "      <td>1</td>\n",
       "      <td>6</td>\n",
       "    </tr>\n",
       "    <tr>\n",
       "      <th>6764</th>\n",
       "      <td>5.00</td>\n",
       "      <td>5.00</td>\n",
       "      <td>5.00</td>\n",
       "      <td>5.00</td>\n",
       "      <td>5.00</td>\n",
       "      <td>1</td>\n",
       "      <td>6</td>\n",
       "    </tr>\n",
       "  </tbody>\n",
       "</table>\n",
       "<p>1910 rows × 7 columns</p>\n",
       "</div>"
      ],
      "text/plain": [
       "      review_scores_cleanliness  review_scores_checkin  \\\n",
       "1                          4.91                   4.51   \n",
       "2                          4.85                   4.85   \n",
       "3                          4.82                   4.75   \n",
       "4                          4.91                   4.94   \n",
       "5                          4.70                   4.93   \n",
       "...                         ...                    ...   \n",
       "6658                       4.50                   4.75   \n",
       "6724                       5.00                   5.00   \n",
       "6738                       5.00                   4.67   \n",
       "6745                       5.00                   5.00   \n",
       "6764                       5.00                   5.00   \n",
       "\n",
       "      review_scores_communication  review_scores_location  \\\n",
       "1                            4.63                    4.70   \n",
       "2                            4.92                    4.92   \n",
       "3                            4.71                    4.81   \n",
       "4                            4.94                    4.97   \n",
       "5                            4.84                    4.86   \n",
       "...                           ...                     ...   \n",
       "6658                         4.75                    4.75   \n",
       "6724                         5.00                    5.00   \n",
       "6738                         5.00                    4.33   \n",
       "6745                         5.00                    5.00   \n",
       "6764                         5.00                    5.00   \n",
       "\n",
       "      review_scores_rating  number_of_reviews  estimated_occupancy_l365d  \n",
       "1                     4.84                 81                         60  \n",
       "2                     4.79                 14                        248  \n",
       "3                     4.69                 17                        248  \n",
       "4                     4.97                 34                        124  \n",
       "5                     4.72                107                        224  \n",
       "...                    ...                ...                        ...  \n",
       "6658                  4.75                  4                         24  \n",
       "6724                  5.00                  1                          6  \n",
       "6738                  5.00                  3                         18  \n",
       "6745                  5.00                  1                          6  \n",
       "6764                  5.00                  1                          6  \n",
       "\n",
       "[1910 rows x 7 columns]"
      ]
     },
     "execution_count": 452,
     "metadata": {},
     "output_type": "execute_result"
    }
   ],
   "source": [
    "df_demand = df_filtered[['review_scores_cleanliness',\n",
    " 'review_scores_checkin',\n",
    " 'review_scores_communication',\n",
    " 'review_scores_location',\n",
    " 'review_scores_rating',\n",
    "    'number_of_reviews',\n",
    "'estimated_occupancy_l365d']]\n",
    "df_demand"
   ]
  },
  {
   "cell_type": "code",
   "execution_count": 453,
   "id": "18129491-2615-4e83-ba27-7302df131a6c",
   "metadata": {},
   "outputs": [
    {
     "data": {
      "image/png": "[encoded data removed]",
      "text/plain": [
       "<Figure size 640x480 with 2 Axes>"
      ]
     },
     "metadata": {},
     "output_type": "display_data"
    }
   ],
   "source": [
    "import seaborn as sns\n",
    "correlation_matrix = df_demand.corr()\n",
    "correlations = correlation_matrix[\"estimated_occupancy_l365d\"].drop(\"estimated_occupancy_l365d\")\n",
    "\n",
    "threshold = 0.1\n",
    "filtered = correlations[correlations.abs() > threshold]\n",
    "\n",
    "sns.heatmap(filtered.to_frame().T, annot=True, cmap='coolwarm')\n",
    "plt.title('Most relevant correlations')\n",
    "plt.show()"
   ]
  },
  {
   "cell_type": "markdown",
   "id": "7910bba8-5c44-46ad-b0b9-6c498253818c",
   "metadata": {},
   "source": [
    "**Conclusion:** We can observe a strong relationship between estimated_occupancy_l365d and the features mentioned above."
   ]
  },
  {
   "cell_type": "markdown",
   "id": "552d31e3-64d7-49bd-a394-94eef63d10dc",
   "metadata": {},
   "source": [
    "##### **How should an Airbnb property be designed to maximize its potential demand?**"
   ]
  },
  {
   "cell_type": "markdown",
   "id": "fe2474aa-f2c3-4ff5-875f-33292ee5e2fb",
   "metadata": {},
   "source": [
    "###### **Romm and Property Type**\n",
    "Now we can also observe that some columns contain categorical data. To analyze their impact as well, we need to convert these categorical variables into numerical ones.  \n",
    "But first lets filter the categorical columns."
   ]
  },
  {
   "cell_type": "code",
   "execution_count": 454,
   "id": "2b8a3b9a-2541-4bf5-8426-b5a4c0b3f685",
   "metadata": {},
   "outputs": [
    {
     "data": {
      "text/plain": [
       "(1910, 5)"
      ]
     },
     "execution_count": 454,
     "metadata": {},
     "output_type": "execute_result"
    }
   ],
   "source": [
    "df_categorical = df_filtered.select_dtypes(include=[\"object\"])\n",
    "df_categorical.shape"
   ]
  },
  {
   "cell_type": "code",
   "execution_count": 455,
   "id": "82955a28-4e74-49a2-9fa1-c8216d21dbba",
   "metadata": {},
   "outputs": [
    {
     "name": "stdout",
     "output_type": "stream",
     "text": [
      "<class 'pandas.core.frame.DataFrame'>\n",
      "Index: 1910 entries, 1 to 6764\n",
      "Data columns (total 5 columns):\n",
      " #   Column         Non-Null Count  Dtype \n",
      "---  ------         --------------  ----- \n",
      " 0   host_location  1910 non-null   object\n",
      " 1   property_type  1910 non-null   object\n",
      " 2   room_type      1910 non-null   object\n",
      " 3   amenities      1910 non-null   object\n",
      " 4   price          1910 non-null   object\n",
      "dtypes: object(5)\n",
      "memory usage: 89.5+ KB\n"
     ]
    }
   ],
   "source": [
    "df_categorical.info()"
   ]
  },
  {
   "cell_type": "markdown",
   "id": "a4a08399-69ad-4d27-8b42-03e0ffbb0e18",
   "metadata": {},
   "source": [
    "We need to eliminate the dollar character and convert our price values into float values (numeric values with decimals)."
   ]
  },
  {
   "cell_type": "markdown",
   "id": "3f3e149e-03cb-43d1-8164-891911c9d90b",
   "metadata": {},
   "source": [
    "Among all the categorical columns, only a few are meaningful to transform into numerical values for our analysis:  \n",
    "**property_type  \n",
    "room_type**  \n",
    "So we'll focus on working with those."
   ]
  },
  {
   "cell_type": "code",
   "execution_count": 456,
   "id": "e2861199-18ac-412a-8a08-6b81aa97735a",
   "metadata": {},
   "outputs": [
    {
     "name": "stdout",
     "output_type": "stream",
     "text": [
      "['property_type', 'room_type']\n"
     ]
    }
   ],
   "source": [
    "df_categorical = df_categorical[[\"property_type\",\"room_type\"]]\n",
    "categorical_columns = list(df_categorical.columns)\n",
    "print(categorical_columns)"
   ]
  },
  {
   "cell_type": "markdown",
   "id": "81eae055-c34a-4f5f-b1b8-5115297a67ab",
   "metadata": {},
   "source": [
    "We want to create a DataFrame that includes all the original numerical columns from df_filtered, along with the categorical columns transformed into numerical ones using dummy variables, by running a predefined function."
   ]
  },
  {
   "cell_type": "code",
   "execution_count": 457,
   "id": "b2bcf045-f0da-4b3f-b1a7-d226f0d86900",
   "metadata": {},
   "outputs": [],
   "source": [
    "def create_dummy_df (df,cat_cols):\n",
    "    '''\n",
    "    Input:\n",
    "    df: A DataFrame containing categorical variables to be converted.\n",
    "    cat_cols: A list of strings representing the names of the categorical columns to be transformed.\n",
    "\n",
    "    Output:\n",
    "    df is a new DataFrame with the following characteristics:\n",
    "        - It includes all columns from the original DataFrame that were not specified as categorical.\n",
    "        - It removes all the original categorical columns.\n",
    "        - It adds dummy columns for each of the categorical columns listed in cat_cols.\n",
    "    '''\n",
    "    for col in cat_cols:\n",
    "        try:\n",
    "            df = pd.concat([df.drop(col, axis=1), pd.get_dummies(df[col], prefix=col, prefix_sep='_', drop_first=True).astype(int)], axis=1)\n",
    "        except:\n",
    "            continue\n",
    "    return df"
   ]
  },
  {
   "cell_type": "code",
   "execution_count": 458,
   "id": "471a809c-ab7f-4d61-a8d5-df047b042f9a",
   "metadata": {},
   "outputs": [],
   "source": [
    "df_type = df_filtered[[\"property_type\",\"room_type\",\"estimated_occupancy_l365d\"]]"
   ]
  },
  {
   "cell_type": "code",
   "execution_count": 459,
   "id": "68f41a75-fa83-4fba-876b-1fb521eceea0",
   "metadata": {
    "scrolled": true
   },
   "outputs": [
    {
     "data": {
      "text/plain": [
       "<bound method DataFrame.info of       estimated_occupancy_l365d  property_type_Casa particular  \\\n",
       "1                            60                              0   \n",
       "2                           248                              0   \n",
       "3                           248                              0   \n",
       "4                           124                              0   \n",
       "5                           224                              0   \n",
       "...                         ...                            ...   \n",
       "6658                         24                              0   \n",
       "6724                          6                              0   \n",
       "6738                         18                              0   \n",
       "6745                          6                              0   \n",
       "6764                          6                              0   \n",
       "\n",
       "      property_type_Earthen home  property_type_Entire bungalow  \\\n",
       "1                              0                              0   \n",
       "2                              0                              0   \n",
       "3                              0                              0   \n",
       "4                              0                              0   \n",
       "5                              0                              0   \n",
       "...                          ...                            ...   \n",
       "6658                           0                              0   \n",
       "6724                           0                              0   \n",
       "6738                           0                              0   \n",
       "6745                           0                              0   \n",
       "6764                           0                              0   \n",
       "\n",
       "      property_type_Entire cabin  property_type_Entire chalet  \\\n",
       "1                              0                            0   \n",
       "2                              0                            0   \n",
       "3                              0                            0   \n",
       "4                              0                            0   \n",
       "5                              0                            0   \n",
       "...                          ...                          ...   \n",
       "6658                           0                            0   \n",
       "6724                           0                            0   \n",
       "6738                           0                            0   \n",
       "6745                           0                            0   \n",
       "6764                           0                            0   \n",
       "\n",
       "      property_type_Entire condo  property_type_Entire cottage  \\\n",
       "1                              0                             0   \n",
       "2                              0                             0   \n",
       "3                              0                             0   \n",
       "4                              0                             0   \n",
       "5                              0                             0   \n",
       "...                          ...                           ...   \n",
       "6658                           0                             0   \n",
       "6724                           0                             0   \n",
       "6738                           0                             0   \n",
       "6745                           0                             0   \n",
       "6764                           0                             0   \n",
       "\n",
       "      property_type_Entire guest suite  property_type_Entire guesthouse  ...  \\\n",
       "1                                    0                                0  ...   \n",
       "2                                    0                                0  ...   \n",
       "3                                    0                                0  ...   \n",
       "4                                    0                                0  ...   \n",
       "5                                    0                                0  ...   \n",
       "...                                ...                              ...  ...   \n",
       "6658                                 0                                0  ...   \n",
       "6724                                 0                                0  ...   \n",
       "6738                                 0                                0  ...   \n",
       "6745                                 0                                0  ...   \n",
       "6764                                 0                                0  ...   \n",
       "\n",
       "      property_type_Room in hotel  property_type_Room in serviced apartment  \\\n",
       "1                               0                                         0   \n",
       "2                               0                                         0   \n",
       "3                               0                                         0   \n",
       "4                               0                                         0   \n",
       "5                               0                                         0   \n",
       "...                           ...                                       ...   \n",
       "6658                            0                                         0   \n",
       "6724                            0                                         0   \n",
       "6738                            0                                         0   \n",
       "6745                            0                                         0   \n",
       "6764                            0                                         0   \n",
       "\n",
       "      property_type_Shared room in bed and breakfast  \\\n",
       "1                                                  0   \n",
       "2                                                  0   \n",
       "3                                                  0   \n",
       "4                                                  0   \n",
       "5                                                  0   \n",
       "...                                              ...   \n",
       "6658                                               0   \n",
       "6724                                               0   \n",
       "6738                                               0   \n",
       "6745                                               0   \n",
       "6764                                               0   \n",
       "\n",
       "      property_type_Shared room in hostel  \\\n",
       "1                                       0   \n",
       "2                                       0   \n",
       "3                                       0   \n",
       "4                                       0   \n",
       "5                                       0   \n",
       "...                                   ...   \n",
       "6658                                    0   \n",
       "6724                                    0   \n",
       "6738                                    0   \n",
       "6745                                    0   \n",
       "6764                                    0   \n",
       "\n",
       "      property_type_Shared room in vacation home  property_type_Tiny home  \\\n",
       "1                                              0                        0   \n",
       "2                                              0                        0   \n",
       "3                                              0                        0   \n",
       "4                                              0                        0   \n",
       "5                                              0                        0   \n",
       "...                                          ...                      ...   \n",
       "6658                                           0                        0   \n",
       "6724                                           0                        0   \n",
       "6738                                           0                        0   \n",
       "6745                                           0                        0   \n",
       "6764                                           0                        0   \n",
       "\n",
       "      property_type_Treehouse  room_type_Hotel room  room_type_Private room  \\\n",
       "1                           0                     0                       0   \n",
       "2                           0                     0                       0   \n",
       "3                           0                     0                       0   \n",
       "4                           0                     0                       0   \n",
       "5                           0                     0                       1   \n",
       "...                       ...                   ...                     ...   \n",
       "6658                        0                     0                       0   \n",
       "6724                        0                     0                       0   \n",
       "6738                        0                     0                       0   \n",
       "6745                        0                     0                       1   \n",
       "6764                        0                     0                       1   \n",
       "\n",
       "      room_type_Shared room  \n",
       "1                         0  \n",
       "2                         0  \n",
       "3                         0  \n",
       "4                         0  \n",
       "5                         0  \n",
       "...                     ...  \n",
       "6658                      0  \n",
       "6724                      0  \n",
       "6738                      0  \n",
       "6745                      0  \n",
       "6764                      0  \n",
       "\n",
       "[1910 rows x 49 columns]>"
      ]
     },
     "execution_count": 459,
     "metadata": {},
     "output_type": "execute_result"
    }
   ],
   "source": [
    "df_type = create_dummy_df(df_type,categorical_columns)\n",
    "df_type.info"
   ]
  },
  {
   "cell_type": "code",
   "execution_count": 460,
   "id": "a22dc639-5705-4eca-add8-a1fb82b9fcfe",
   "metadata": {},
   "outputs": [
    {
     "data": {
      "text/html": [
       "<div>\n",
       "<style scoped>\n",
       "    .dataframe tbody tr th:only-of-type {\n",
       "        vertical-align: middle;\n",
       "    }\n",
       "\n",
       "    .dataframe tbody tr th {\n",
       "        vertical-align: top;\n",
       "    }\n",
       "\n",
       "    .dataframe thead th {\n",
       "        text-align: right;\n",
       "    }\n",
       "</style>\n",
       "<table border=\"1\" class=\"dataframe\">\n",
       "  <thead>\n",
       "    <tr style=\"text-align: right;\">\n",
       "      <th></th>\n",
       "      <th>estimated_occupancy_l365d</th>\n",
       "      <th>property_type_Casa particular</th>\n",
       "      <th>property_type_Earthen home</th>\n",
       "      <th>property_type_Entire bungalow</th>\n",
       "      <th>property_type_Entire cabin</th>\n",
       "      <th>property_type_Entire chalet</th>\n",
       "      <th>property_type_Entire condo</th>\n",
       "      <th>property_type_Entire cottage</th>\n",
       "      <th>property_type_Entire guest suite</th>\n",
       "      <th>property_type_Entire guesthouse</th>\n",
       "      <th>...</th>\n",
       "      <th>property_type_Room in hotel</th>\n",
       "      <th>property_type_Room in serviced apartment</th>\n",
       "      <th>property_type_Shared room in bed and breakfast</th>\n",
       "      <th>property_type_Shared room in hostel</th>\n",
       "      <th>property_type_Shared room in vacation home</th>\n",
       "      <th>property_type_Tiny home</th>\n",
       "      <th>property_type_Treehouse</th>\n",
       "      <th>room_type_Hotel room</th>\n",
       "      <th>room_type_Private room</th>\n",
       "      <th>room_type_Shared room</th>\n",
       "    </tr>\n",
       "  </thead>\n",
       "  <tbody>\n",
       "    <tr>\n",
       "      <th>count</th>\n",
       "      <td>1910.000000</td>\n",
       "      <td>1910.000000</td>\n",
       "      <td>1910.000000</td>\n",
       "      <td>1910.000000</td>\n",
       "      <td>1910.000000</td>\n",
       "      <td>1910.000000</td>\n",
       "      <td>1910.000000</td>\n",
       "      <td>1910.000000</td>\n",
       "      <td>1910.000000</td>\n",
       "      <td>1910.000000</td>\n",
       "      <td>...</td>\n",
       "      <td>1910.000000</td>\n",
       "      <td>1910.000000</td>\n",
       "      <td>1910.000000</td>\n",
       "      <td>1910.000000</td>\n",
       "      <td>1910.000000</td>\n",
       "      <td>1910.000000</td>\n",
       "      <td>1910.000000</td>\n",
       "      <td>1910.000000</td>\n",
       "      <td>1910.00000</td>\n",
       "      <td>1910.000000</td>\n",
       "    </tr>\n",
       "    <tr>\n",
       "      <th>mean</th>\n",
       "      <td>84.819372</td>\n",
       "      <td>0.001571</td>\n",
       "      <td>0.000524</td>\n",
       "      <td>0.000524</td>\n",
       "      <td>0.002094</td>\n",
       "      <td>0.009424</td>\n",
       "      <td>0.023560</td>\n",
       "      <td>0.024084</td>\n",
       "      <td>0.003141</td>\n",
       "      <td>0.002618</td>\n",
       "      <td>...</td>\n",
       "      <td>0.007853</td>\n",
       "      <td>0.001047</td>\n",
       "      <td>0.000524</td>\n",
       "      <td>0.003141</td>\n",
       "      <td>0.000524</td>\n",
       "      <td>0.000524</td>\n",
       "      <td>0.000524</td>\n",
       "      <td>0.004712</td>\n",
       "      <td>0.24712</td>\n",
       "      <td>0.004188</td>\n",
       "    </tr>\n",
       "    <tr>\n",
       "      <th>std</th>\n",
       "      <td>85.369884</td>\n",
       "      <td>0.039611</td>\n",
       "      <td>0.022881</td>\n",
       "      <td>0.022881</td>\n",
       "      <td>0.045727</td>\n",
       "      <td>0.096645</td>\n",
       "      <td>0.151714</td>\n",
       "      <td>0.153349</td>\n",
       "      <td>0.055974</td>\n",
       "      <td>0.051111</td>\n",
       "      <td>...</td>\n",
       "      <td>0.088294</td>\n",
       "      <td>0.032351</td>\n",
       "      <td>0.022881</td>\n",
       "      <td>0.055974</td>\n",
       "      <td>0.022881</td>\n",
       "      <td>0.022881</td>\n",
       "      <td>0.022881</td>\n",
       "      <td>0.068500</td>\n",
       "      <td>0.43145</td>\n",
       "      <td>0.064600</td>\n",
       "    </tr>\n",
       "    <tr>\n",
       "      <th>min</th>\n",
       "      <td>0.000000</td>\n",
       "      <td>0.000000</td>\n",
       "      <td>0.000000</td>\n",
       "      <td>0.000000</td>\n",
       "      <td>0.000000</td>\n",
       "      <td>0.000000</td>\n",
       "      <td>0.000000</td>\n",
       "      <td>0.000000</td>\n",
       "      <td>0.000000</td>\n",
       "      <td>0.000000</td>\n",
       "      <td>...</td>\n",
       "      <td>0.000000</td>\n",
       "      <td>0.000000</td>\n",
       "      <td>0.000000</td>\n",
       "      <td>0.000000</td>\n",
       "      <td>0.000000</td>\n",
       "      <td>0.000000</td>\n",
       "      <td>0.000000</td>\n",
       "      <td>0.000000</td>\n",
       "      <td>0.00000</td>\n",
       "      <td>0.000000</td>\n",
       "    </tr>\n",
       "    <tr>\n",
       "      <th>25%</th>\n",
       "      <td>16.000000</td>\n",
       "      <td>0.000000</td>\n",
       "      <td>0.000000</td>\n",
       "      <td>0.000000</td>\n",
       "      <td>0.000000</td>\n",
       "      <td>0.000000</td>\n",
       "      <td>0.000000</td>\n",
       "      <td>0.000000</td>\n",
       "      <td>0.000000</td>\n",
       "      <td>0.000000</td>\n",
       "      <td>...</td>\n",
       "      <td>0.000000</td>\n",
       "      <td>0.000000</td>\n",
       "      <td>0.000000</td>\n",
       "      <td>0.000000</td>\n",
       "      <td>0.000000</td>\n",
       "      <td>0.000000</td>\n",
       "      <td>0.000000</td>\n",
       "      <td>0.000000</td>\n",
       "      <td>0.00000</td>\n",
       "      <td>0.000000</td>\n",
       "    </tr>\n",
       "    <tr>\n",
       "      <th>50%</th>\n",
       "      <td>48.000000</td>\n",
       "      <td>0.000000</td>\n",
       "      <td>0.000000</td>\n",
       "      <td>0.000000</td>\n",
       "      <td>0.000000</td>\n",
       "      <td>0.000000</td>\n",
       "      <td>0.000000</td>\n",
       "      <td>0.000000</td>\n",
       "      <td>0.000000</td>\n",
       "      <td>0.000000</td>\n",
       "      <td>...</td>\n",
       "      <td>0.000000</td>\n",
       "      <td>0.000000</td>\n",
       "      <td>0.000000</td>\n",
       "      <td>0.000000</td>\n",
       "      <td>0.000000</td>\n",
       "      <td>0.000000</td>\n",
       "      <td>0.000000</td>\n",
       "      <td>0.000000</td>\n",
       "      <td>0.00000</td>\n",
       "      <td>0.000000</td>\n",
       "    </tr>\n",
       "    <tr>\n",
       "      <th>75%</th>\n",
       "      <td>132.000000</td>\n",
       "      <td>0.000000</td>\n",
       "      <td>0.000000</td>\n",
       "      <td>0.000000</td>\n",
       "      <td>0.000000</td>\n",
       "      <td>0.000000</td>\n",
       "      <td>0.000000</td>\n",
       "      <td>0.000000</td>\n",
       "      <td>0.000000</td>\n",
       "      <td>0.000000</td>\n",
       "      <td>...</td>\n",
       "      <td>0.000000</td>\n",
       "      <td>0.000000</td>\n",
       "      <td>0.000000</td>\n",
       "      <td>0.000000</td>\n",
       "      <td>0.000000</td>\n",
       "      <td>0.000000</td>\n",
       "      <td>0.000000</td>\n",
       "      <td>0.000000</td>\n",
       "      <td>0.00000</td>\n",
       "      <td>0.000000</td>\n",
       "    </tr>\n",
       "    <tr>\n",
       "      <th>max</th>\n",
       "      <td>255.000000</td>\n",
       "      <td>1.000000</td>\n",
       "      <td>1.000000</td>\n",
       "      <td>1.000000</td>\n",
       "      <td>1.000000</td>\n",
       "      <td>1.000000</td>\n",
       "      <td>1.000000</td>\n",
       "      <td>1.000000</td>\n",
       "      <td>1.000000</td>\n",
       "      <td>1.000000</td>\n",
       "      <td>...</td>\n",
       "      <td>1.000000</td>\n",
       "      <td>1.000000</td>\n",
       "      <td>1.000000</td>\n",
       "      <td>1.000000</td>\n",
       "      <td>1.000000</td>\n",
       "      <td>1.000000</td>\n",
       "      <td>1.000000</td>\n",
       "      <td>1.000000</td>\n",
       "      <td>1.00000</td>\n",
       "      <td>1.000000</td>\n",
       "    </tr>\n",
       "  </tbody>\n",
       "</table>\n",
       "<p>8 rows × 49 columns</p>\n",
       "</div>"
      ],
      "text/plain": [
       "       estimated_occupancy_l365d  property_type_Casa particular  \\\n",
       "count                1910.000000                    1910.000000   \n",
       "mean                   84.819372                       0.001571   \n",
       "std                    85.369884                       0.039611   \n",
       "min                     0.000000                       0.000000   \n",
       "25%                    16.000000                       0.000000   \n",
       "50%                    48.000000                       0.000000   \n",
       "75%                   132.000000                       0.000000   \n",
       "max                   255.000000                       1.000000   \n",
       "\n",
       "       property_type_Earthen home  property_type_Entire bungalow  \\\n",
       "count                 1910.000000                    1910.000000   \n",
       "mean                     0.000524                       0.000524   \n",
       "std                      0.022881                       0.022881   \n",
       "min                      0.000000                       0.000000   \n",
       "25%                      0.000000                       0.000000   \n",
       "50%                      0.000000                       0.000000   \n",
       "75%                      0.000000                       0.000000   \n",
       "max                      1.000000                       1.000000   \n",
       "\n",
       "       property_type_Entire cabin  property_type_Entire chalet  \\\n",
       "count                 1910.000000                  1910.000000   \n",
       "mean                     0.002094                     0.009424   \n",
       "std                      0.045727                     0.096645   \n",
       "min                      0.000000                     0.000000   \n",
       "25%                      0.000000                     0.000000   \n",
       "50%                      0.000000                     0.000000   \n",
       "75%                      0.000000                     0.000000   \n",
       "max                      1.000000                     1.000000   \n",
       "\n",
       "       property_type_Entire condo  property_type_Entire cottage  \\\n",
       "count                 1910.000000                   1910.000000   \n",
       "mean                     0.023560                      0.024084   \n",
       "std                      0.151714                      0.153349   \n",
       "min                      0.000000                      0.000000   \n",
       "25%                      0.000000                      0.000000   \n",
       "50%                      0.000000                      0.000000   \n",
       "75%                      0.000000                      0.000000   \n",
       "max                      1.000000                      1.000000   \n",
       "\n",
       "       property_type_Entire guest suite  property_type_Entire guesthouse  ...  \\\n",
       "count                       1910.000000                      1910.000000  ...   \n",
       "mean                           0.003141                         0.002618  ...   \n",
       "std                            0.055974                         0.051111  ...   \n",
       "min                            0.000000                         0.000000  ...   \n",
       "25%                            0.000000                         0.000000  ...   \n",
       "50%                            0.000000                         0.000000  ...   \n",
       "75%                            0.000000                         0.000000  ...   \n",
       "max                            1.000000                         1.000000  ...   \n",
       "\n",
       "       property_type_Room in hotel  property_type_Room in serviced apartment  \\\n",
       "count                  1910.000000                               1910.000000   \n",
       "mean                      0.007853                                  0.001047   \n",
       "std                       0.088294                                  0.032351   \n",
       "min                       0.000000                                  0.000000   \n",
       "25%                       0.000000                                  0.000000   \n",
       "50%                       0.000000                                  0.000000   \n",
       "75%                       0.000000                                  0.000000   \n",
       "max                       1.000000                                  1.000000   \n",
       "\n",
       "       property_type_Shared room in bed and breakfast  \\\n",
       "count                                     1910.000000   \n",
       "mean                                         0.000524   \n",
       "std                                          0.022881   \n",
       "min                                          0.000000   \n",
       "25%                                          0.000000   \n",
       "50%                                          0.000000   \n",
       "75%                                          0.000000   \n",
       "max                                          1.000000   \n",
       "\n",
       "       property_type_Shared room in hostel  \\\n",
       "count                          1910.000000   \n",
       "mean                              0.003141   \n",
       "std                               0.055974   \n",
       "min                               0.000000   \n",
       "25%                               0.000000   \n",
       "50%                               0.000000   \n",
       "75%                               0.000000   \n",
       "max                               1.000000   \n",
       "\n",
       "       property_type_Shared room in vacation home  property_type_Tiny home  \\\n",
       "count                                 1910.000000              1910.000000   \n",
       "mean                                     0.000524                 0.000524   \n",
       "std                                      0.022881                 0.022881   \n",
       "min                                      0.000000                 0.000000   \n",
       "25%                                      0.000000                 0.000000   \n",
       "50%                                      0.000000                 0.000000   \n",
       "75%                                      0.000000                 0.000000   \n",
       "max                                      1.000000                 1.000000   \n",
       "\n",
       "       property_type_Treehouse  room_type_Hotel room  room_type_Private room  \\\n",
       "count              1910.000000           1910.000000              1910.00000   \n",
       "mean                  0.000524              0.004712                 0.24712   \n",
       "std                   0.022881              0.068500                 0.43145   \n",
       "min                   0.000000              0.000000                 0.00000   \n",
       "25%                   0.000000              0.000000                 0.00000   \n",
       "50%                   0.000000              0.000000                 0.00000   \n",
       "75%                   0.000000              0.000000                 0.00000   \n",
       "max                   1.000000              1.000000                 1.00000   \n",
       "\n",
       "       room_type_Shared room  \n",
       "count            1910.000000  \n",
       "mean                0.004188  \n",
       "std                 0.064600  \n",
       "min                 0.000000  \n",
       "25%                 0.000000  \n",
       "50%                 0.000000  \n",
       "75%                 0.000000  \n",
       "max                 1.000000  \n",
       "\n",
       "[8 rows x 49 columns]"
      ]
     },
     "execution_count": 460,
     "metadata": {},
     "output_type": "execute_result"
    }
   ],
   "source": [
    "df_type = df_type.dropna()\n",
    "df_type.describe()"
   ]
  },
  {
   "cell_type": "markdown",
   "id": "9bf1c3b2-d303-4ac9-8965-ed23c7ce2398",
   "metadata": {},
   "source": [
    "First, we will choose the property and room type with the highest potential.  "
   ]
  },
  {
   "cell_type": "code",
   "execution_count": 461,
   "id": "abc0821d-deac-4885-abb8-140d33930754",
   "metadata": {},
   "outputs": [
    {
     "data": {
      "image/png": "[encoded data removed]",
      "text/plain": [
       "<Figure size 640x480 with 2 Axes>"
      ]
     },
     "metadata": {},
     "output_type": "display_data"
    }
   ],
   "source": [
    "correlation_matrix = df_type.corr()\n",
    "correlations = correlation_matrix[\"estimated_occupancy_l365d\"].drop(\"estimated_occupancy_l365d\")\n",
    "\n",
    "threshold = 0.05\n",
    "filtered = correlations[correlations.abs() > threshold]\n",
    "\n",
    "sns.heatmap(filtered.to_frame().T, annot=True, cmap='coolwarm')\n",
    "plt.title('Most relevant correlations')\n",
    "plt.show()"
   ]
  },
  {
   "cell_type": "code",
   "execution_count": 462,
   "id": "961de83d-ffdc-43b2-9532-d810a98be5cd",
   "metadata": {},
   "outputs": [
    {
     "data": {
      "text/plain": [
       "['Entire rental unit', 'Private room in chalet', 'Private room in cottage']"
      ]
     },
     "execution_count": 462,
     "metadata": {},
     "output_type": "execute_result"
    }
   ],
   "source": [
    "property_type = [\"Entire rental unit\",\n",
    "                 \"Private room in chalet\",\n",
    "                 \"Private room in cottage\"]\n",
    "property_type"
   ]
  },
  {
   "cell_type": "markdown",
   "id": "64a0f83a-4f6c-4bf6-85d1-0978542bee33",
   "metadata": {},
   "source": [
    "**These are the most relevant property types.**"
   ]
  },
  {
   "cell_type": "markdown",
   "id": "125c53d5-7b20-4ff6-a63c-cada20708ce6",
   "metadata": {},
   "source": [
    "###### **Top amenities:**  \n",
    "We want to consider all relevant features for our case, but also take it a step further into a more specific level. Here, we encounter the amenities column, which contains valuable information that we cannot yet evaluate, as the values are stored as text. Let’s explore how we can transform these values into something more tangible.  \n",
    "\n",
    "Our goal is to identify the most commonly offered amenities and, subsequently, determine which of them are most valued by customers."
   ]
  },
  {
   "cell_type": "code",
   "execution_count": 463,
   "id": "c3592d50-2eda-477b-a5d4-80a445423dca",
   "metadata": {},
   "outputs": [],
   "source": [
    "#Transforming the text into lists and convertir the data format.\n",
    "\n",
    "import ast\n",
    "from collections import Counter\n",
    "\n",
    "df_filtered[\"amenities\"] = df_filtered[\"amenities\"].apply(\n",
    "    lambda x: [item.encode('utf-8').decode('unicode_escape') for item in ast.literal_eval(x)] if isinstance(x, str) else \n",
    "              [item.encode('utf-8').decode('unicode_escape') for item in x]\n",
    ")\n",
    "\n",
    "all_amenities = sum(df_filtered[\"amenities\"],[])\n",
    "counter = Counter(all_amenities)"
   ]
  },
  {
   "cell_type": "code",
   "execution_count": 464,
   "id": "9029ce52-36d4-4687-8ba3-3aad717f5746",
   "metadata": {},
   "outputs": [
    {
     "data": {
      "text/plain": [
       "14"
      ]
     },
     "execution_count": 464,
     "metadata": {},
     "output_type": "execute_result"
    }
   ],
   "source": [
    "frequent_amenities = {amenity: count for amenity, count in counter.items() if count >= 1200}\n",
    "len(frequent_amenities)"
   ]
  },
  {
   "cell_type": "code",
   "execution_count": 465,
   "id": "50b8ae23-993d-4259-a4d0-6b5a43095d1a",
   "metadata": {},
   "outputs": [
    {
     "data": {
      "text/plain": [
       "{'Heating': 1319,\n",
       " 'Refrigerator': 1411,\n",
       " 'Essentials': 1606,\n",
       " 'Dishes and silverware': 1503,\n",
       " 'Cooking basics': 1310,\n",
       " 'Microwave': 1429,\n",
       " 'Hangers': 1472,\n",
       " 'Hot water': 1612,\n",
       " 'Hair dryer': 1614,\n",
       " 'Kitchen': 1613,\n",
       " 'Iron': 1432,\n",
       " 'Wifi': 1690,\n",
       " 'Bed linens': 1457,\n",
       " 'TV': 1251}"
      ]
     },
     "execution_count": 465,
     "metadata": {},
     "output_type": "execute_result"
    }
   ],
   "source": [
    "frequent_amenities"
   ]
  },
  {
   "cell_type": "markdown",
   "id": "151cda8f-f01f-439b-b565-8b5f67f330a9",
   "metadata": {},
   "source": [
    "We ended up with the following most common ammenities:  \n",
    "**Heating  \n",
    "Refrigerator  \n",
    "Essentials  \n",
    "Dishes and silverware  \n",
    "Cooking basics  \n",
    "Microwave  \n",
    "Hangers  \n",
    "Hot water  \n",
    "Hair dryer  \n",
    "Kitchen  \n",
    "Iron    \n",
    "Wifi  \n",
    "Bed linens  \n",
    "TV**"
   ]
  },
  {
   "cell_type": "code",
   "execution_count": 466,
   "id": "4521053d-5969-43c0-858f-f86e034a63e2",
   "metadata": {},
   "outputs": [],
   "source": [
    "lista = [\"Heating\",\n",
    "\"Refrigerator\",\n",
    "\"Essentials\",\n",
    "\"Dishes and silverware\",\n",
    "\"Cooking basics\",\n",
    "\"Microwave\",\n",
    "\"Hangers\",\n",
    "\"Hot water\",\n",
    "\"Hair dryer\",\n",
    "\"Kitchen\",\n",
    "\"Iron\",\n",
    "\"Wifi\",\n",
    "\"Bed linens\",\n",
    "\"TV\"]"
   ]
  },
  {
   "cell_type": "markdown",
   "id": "45c56521-972a-49ac-bc50-cda3154c062a",
   "metadata": {},
   "source": [
    "These are the most relevant ammenities that our property should offer."
   ]
  },
  {
   "cell_type": "markdown",
   "id": "73b58c01-1fd7-49e9-9169-305b6e85b8f9",
   "metadata": {},
   "source": [
    "###### **Accomodations, bathrooms and beds**  \n",
    "We now want to break down these columns to clearly differentiate the exact number of accommodations, bathrooms, and beds that our future property should have."
   ]
  },
  {
   "cell_type": "code",
   "execution_count": 467,
   "id": "72264235-c89e-4a04-a841-755b6e638215",
   "metadata": {},
   "outputs": [
    {
     "name": "stdout",
     "output_type": "stream",
     "text": [
      "['Entire rental unit', 'Private room in chalet', 'Private room in cottage']\n"
     ]
    }
   ],
   "source": [
    "print(property_type)"
   ]
  },
  {
   "cell_type": "code",
   "execution_count": 468,
   "id": "315ff513-d9a2-494a-95a1-fcec6a3260b6",
   "metadata": {},
   "outputs": [],
   "source": [
    "df_filtered = df_filtered[\n",
    "    df_filtered[\"property_type\"].isin(property_type)][[\"estimated_occupancy_l365d\", \"accommodates\", \"bathrooms\", \"beds\"]]"
   ]
  },
  {
   "cell_type": "code",
   "execution_count": 469,
   "id": "21c5a510-bdaa-45d1-b6d1-fe150bb3e7e1",
   "metadata": {
    "scrolled": true
   },
   "outputs": [
    {
     "data": {
      "text/html": [
       "<div>\n",
       "<style scoped>\n",
       "    .dataframe tbody tr th:only-of-type {\n",
       "        vertical-align: middle;\n",
       "    }\n",
       "\n",
       "    .dataframe tbody tr th {\n",
       "        vertical-align: top;\n",
       "    }\n",
       "\n",
       "    .dataframe thead th {\n",
       "        text-align: right;\n",
       "    }\n",
       "</style>\n",
       "<table border=\"1\" class=\"dataframe\">\n",
       "  <thead>\n",
       "    <tr style=\"text-align: right;\">\n",
       "      <th></th>\n",
       "      <th>estimated_occupancy_l365d</th>\n",
       "      <th>accommodates</th>\n",
       "      <th>bathrooms</th>\n",
       "      <th>beds</th>\n",
       "    </tr>\n",
       "  </thead>\n",
       "  <tbody>\n",
       "    <tr>\n",
       "      <th>1</th>\n",
       "      <td>60</td>\n",
       "      <td>4</td>\n",
       "      <td>1.0</td>\n",
       "      <td>3.0</td>\n",
       "    </tr>\n",
       "    <tr>\n",
       "      <th>2</th>\n",
       "      <td>248</td>\n",
       "      <td>8</td>\n",
       "      <td>2.0</td>\n",
       "      <td>5.0</td>\n",
       "    </tr>\n",
       "    <tr>\n",
       "      <th>3</th>\n",
       "      <td>248</td>\n",
       "      <td>8</td>\n",
       "      <td>2.0</td>\n",
       "      <td>5.0</td>\n",
       "    </tr>\n",
       "    <tr>\n",
       "      <th>4</th>\n",
       "      <td>124</td>\n",
       "      <td>8</td>\n",
       "      <td>2.0</td>\n",
       "      <td>3.0</td>\n",
       "    </tr>\n",
       "    <tr>\n",
       "      <th>9</th>\n",
       "      <td>42</td>\n",
       "      <td>4</td>\n",
       "      <td>1.0</td>\n",
       "      <td>3.0</td>\n",
       "    </tr>\n",
       "    <tr>\n",
       "      <th>...</th>\n",
       "      <td>...</td>\n",
       "      <td>...</td>\n",
       "      <td>...</td>\n",
       "      <td>...</td>\n",
       "    </tr>\n",
       "    <tr>\n",
       "      <th>6581</th>\n",
       "      <td>24</td>\n",
       "      <td>4</td>\n",
       "      <td>1.0</td>\n",
       "      <td>3.0</td>\n",
       "    </tr>\n",
       "    <tr>\n",
       "      <th>6651</th>\n",
       "      <td>12</td>\n",
       "      <td>2</td>\n",
       "      <td>1.0</td>\n",
       "      <td>1.0</td>\n",
       "    </tr>\n",
       "    <tr>\n",
       "      <th>6658</th>\n",
       "      <td>24</td>\n",
       "      <td>4</td>\n",
       "      <td>1.0</td>\n",
       "      <td>3.0</td>\n",
       "    </tr>\n",
       "    <tr>\n",
       "      <th>6724</th>\n",
       "      <td>6</td>\n",
       "      <td>4</td>\n",
       "      <td>2.0</td>\n",
       "      <td>4.0</td>\n",
       "    </tr>\n",
       "    <tr>\n",
       "      <th>6738</th>\n",
       "      <td>18</td>\n",
       "      <td>4</td>\n",
       "      <td>1.0</td>\n",
       "      <td>3.0</td>\n",
       "    </tr>\n",
       "  </tbody>\n",
       "</table>\n",
       "<p>1136 rows × 4 columns</p>\n",
       "</div>"
      ],
      "text/plain": [
       "      estimated_occupancy_l365d  accommodates  bathrooms  beds\n",
       "1                            60             4        1.0   3.0\n",
       "2                           248             8        2.0   5.0\n",
       "3                           248             8        2.0   5.0\n",
       "4                           124             8        2.0   3.0\n",
       "9                            42             4        1.0   3.0\n",
       "...                         ...           ...        ...   ...\n",
       "6581                         24             4        1.0   3.0\n",
       "6651                         12             2        1.0   1.0\n",
       "6658                         24             4        1.0   3.0\n",
       "6724                          6             4        2.0   4.0\n",
       "6738                         18             4        1.0   3.0\n",
       "\n",
       "[1136 rows x 4 columns]"
      ]
     },
     "execution_count": 469,
     "metadata": {},
     "output_type": "execute_result"
    }
   ],
   "source": [
    "df_filtered"
   ]
  },
  {
   "cell_type": "code",
   "execution_count": 470,
   "id": "092b15a9-b3b1-4cab-87c8-e2ff7a94e9af",
   "metadata": {},
   "outputs": [
    {
     "data": {
      "text/html": [
       "<div>\n",
       "<style scoped>\n",
       "    .dataframe tbody tr th:only-of-type {\n",
       "        vertical-align: middle;\n",
       "    }\n",
       "\n",
       "    .dataframe tbody tr th {\n",
       "        vertical-align: top;\n",
       "    }\n",
       "\n",
       "    .dataframe thead th {\n",
       "        text-align: right;\n",
       "    }\n",
       "</style>\n",
       "<table border=\"1\" class=\"dataframe\">\n",
       "  <thead>\n",
       "    <tr style=\"text-align: right;\">\n",
       "      <th></th>\n",
       "      <th>estimated_occupancy_l365d</th>\n",
       "      <th>bathrooms</th>\n",
       "      <th>beds</th>\n",
       "      <th>accomodates = _2</th>\n",
       "      <th>accomodates = _3</th>\n",
       "      <th>accomodates = _4</th>\n",
       "      <th>accomodates = _5</th>\n",
       "      <th>accomodates = _6</th>\n",
       "      <th>accomodates = _7</th>\n",
       "      <th>accomodates = _8</th>\n",
       "      <th>accomodates = _9</th>\n",
       "      <th>accomodates = _10</th>\n",
       "      <th>accomodates = _14</th>\n",
       "      <th>accomodates = _16</th>\n",
       "    </tr>\n",
       "  </thead>\n",
       "  <tbody>\n",
       "    <tr>\n",
       "      <th>1</th>\n",
       "      <td>60</td>\n",
       "      <td>1</td>\n",
       "      <td>3</td>\n",
       "      <td>0</td>\n",
       "      <td>0</td>\n",
       "      <td>1</td>\n",
       "      <td>0</td>\n",
       "      <td>0</td>\n",
       "      <td>0</td>\n",
       "      <td>0</td>\n",
       "      <td>0</td>\n",
       "      <td>0</td>\n",
       "      <td>0</td>\n",
       "      <td>0</td>\n",
       "    </tr>\n",
       "    <tr>\n",
       "      <th>2</th>\n",
       "      <td>248</td>\n",
       "      <td>2</td>\n",
       "      <td>5</td>\n",
       "      <td>0</td>\n",
       "      <td>0</td>\n",
       "      <td>0</td>\n",
       "      <td>0</td>\n",
       "      <td>0</td>\n",
       "      <td>0</td>\n",
       "      <td>1</td>\n",
       "      <td>0</td>\n",
       "      <td>0</td>\n",
       "      <td>0</td>\n",
       "      <td>0</td>\n",
       "    </tr>\n",
       "    <tr>\n",
       "      <th>3</th>\n",
       "      <td>248</td>\n",
       "      <td>2</td>\n",
       "      <td>5</td>\n",
       "      <td>0</td>\n",
       "      <td>0</td>\n",
       "      <td>0</td>\n",
       "      <td>0</td>\n",
       "      <td>0</td>\n",
       "      <td>0</td>\n",
       "      <td>1</td>\n",
       "      <td>0</td>\n",
       "      <td>0</td>\n",
       "      <td>0</td>\n",
       "      <td>0</td>\n",
       "    </tr>\n",
       "    <tr>\n",
       "      <th>4</th>\n",
       "      <td>124</td>\n",
       "      <td>2</td>\n",
       "      <td>3</td>\n",
       "      <td>0</td>\n",
       "      <td>0</td>\n",
       "      <td>0</td>\n",
       "      <td>0</td>\n",
       "      <td>0</td>\n",
       "      <td>0</td>\n",
       "      <td>1</td>\n",
       "      <td>0</td>\n",
       "      <td>0</td>\n",
       "      <td>0</td>\n",
       "      <td>0</td>\n",
       "    </tr>\n",
       "    <tr>\n",
       "      <th>9</th>\n",
       "      <td>42</td>\n",
       "      <td>1</td>\n",
       "      <td>3</td>\n",
       "      <td>0</td>\n",
       "      <td>0</td>\n",
       "      <td>1</td>\n",
       "      <td>0</td>\n",
       "      <td>0</td>\n",
       "      <td>0</td>\n",
       "      <td>0</td>\n",
       "      <td>0</td>\n",
       "      <td>0</td>\n",
       "      <td>0</td>\n",
       "      <td>0</td>\n",
       "    </tr>\n",
       "    <tr>\n",
       "      <th>...</th>\n",
       "      <td>...</td>\n",
       "      <td>...</td>\n",
       "      <td>...</td>\n",
       "      <td>...</td>\n",
       "      <td>...</td>\n",
       "      <td>...</td>\n",
       "      <td>...</td>\n",
       "      <td>...</td>\n",
       "      <td>...</td>\n",
       "      <td>...</td>\n",
       "      <td>...</td>\n",
       "      <td>...</td>\n",
       "      <td>...</td>\n",
       "      <td>...</td>\n",
       "    </tr>\n",
       "    <tr>\n",
       "      <th>6581</th>\n",
       "      <td>24</td>\n",
       "      <td>1</td>\n",
       "      <td>3</td>\n",
       "      <td>0</td>\n",
       "      <td>0</td>\n",
       "      <td>1</td>\n",
       "      <td>0</td>\n",
       "      <td>0</td>\n",
       "      <td>0</td>\n",
       "      <td>0</td>\n",
       "      <td>0</td>\n",
       "      <td>0</td>\n",
       "      <td>0</td>\n",
       "      <td>0</td>\n",
       "    </tr>\n",
       "    <tr>\n",
       "      <th>6651</th>\n",
       "      <td>12</td>\n",
       "      <td>1</td>\n",
       "      <td>1</td>\n",
       "      <td>1</td>\n",
       "      <td>0</td>\n",
       "      <td>0</td>\n",
       "      <td>0</td>\n",
       "      <td>0</td>\n",
       "      <td>0</td>\n",
       "      <td>0</td>\n",
       "      <td>0</td>\n",
       "      <td>0</td>\n",
       "      <td>0</td>\n",
       "      <td>0</td>\n",
       "    </tr>\n",
       "    <tr>\n",
       "      <th>6658</th>\n",
       "      <td>24</td>\n",
       "      <td>1</td>\n",
       "      <td>3</td>\n",
       "      <td>0</td>\n",
       "      <td>0</td>\n",
       "      <td>1</td>\n",
       "      <td>0</td>\n",
       "      <td>0</td>\n",
       "      <td>0</td>\n",
       "      <td>0</td>\n",
       "      <td>0</td>\n",
       "      <td>0</td>\n",
       "      <td>0</td>\n",
       "      <td>0</td>\n",
       "    </tr>\n",
       "    <tr>\n",
       "      <th>6724</th>\n",
       "      <td>6</td>\n",
       "      <td>2</td>\n",
       "      <td>4</td>\n",
       "      <td>0</td>\n",
       "      <td>0</td>\n",
       "      <td>1</td>\n",
       "      <td>0</td>\n",
       "      <td>0</td>\n",
       "      <td>0</td>\n",
       "      <td>0</td>\n",
       "      <td>0</td>\n",
       "      <td>0</td>\n",
       "      <td>0</td>\n",
       "      <td>0</td>\n",
       "    </tr>\n",
       "    <tr>\n",
       "      <th>6738</th>\n",
       "      <td>18</td>\n",
       "      <td>1</td>\n",
       "      <td>3</td>\n",
       "      <td>0</td>\n",
       "      <td>0</td>\n",
       "      <td>1</td>\n",
       "      <td>0</td>\n",
       "      <td>0</td>\n",
       "      <td>0</td>\n",
       "      <td>0</td>\n",
       "      <td>0</td>\n",
       "      <td>0</td>\n",
       "      <td>0</td>\n",
       "      <td>0</td>\n",
       "    </tr>\n",
       "  </tbody>\n",
       "</table>\n",
       "<p>1136 rows × 14 columns</p>\n",
       "</div>"
      ],
      "text/plain": [
       "      estimated_occupancy_l365d  bathrooms  beds  accomodates = _2  \\\n",
       "1                            60          1     3                 0   \n",
       "2                           248          2     5                 0   \n",
       "3                           248          2     5                 0   \n",
       "4                           124          2     3                 0   \n",
       "9                            42          1     3                 0   \n",
       "...                         ...        ...   ...               ...   \n",
       "6581                         24          1     3                 0   \n",
       "6651                         12          1     1                 1   \n",
       "6658                         24          1     3                 0   \n",
       "6724                          6          2     4                 0   \n",
       "6738                         18          1     3                 0   \n",
       "\n",
       "      accomodates = _3  accomodates = _4  accomodates = _5  accomodates = _6  \\\n",
       "1                    0                 1                 0                 0   \n",
       "2                    0                 0                 0                 0   \n",
       "3                    0                 0                 0                 0   \n",
       "4                    0                 0                 0                 0   \n",
       "9                    0                 1                 0                 0   \n",
       "...                ...               ...               ...               ...   \n",
       "6581                 0                 1                 0                 0   \n",
       "6651                 0                 0                 0                 0   \n",
       "6658                 0                 1                 0                 0   \n",
       "6724                 0                 1                 0                 0   \n",
       "6738                 0                 1                 0                 0   \n",
       "\n",
       "      accomodates = _7  accomodates = _8  accomodates = _9  accomodates = _10  \\\n",
       "1                    0                 0                 0                  0   \n",
       "2                    0                 1                 0                  0   \n",
       "3                    0                 1                 0                  0   \n",
       "4                    0                 1                 0                  0   \n",
       "9                    0                 0                 0                  0   \n",
       "...                ...               ...               ...                ...   \n",
       "6581                 0                 0                 0                  0   \n",
       "6651                 0                 0                 0                  0   \n",
       "6658                 0                 0                 0                  0   \n",
       "6724                 0                 0                 0                  0   \n",
       "6738                 0                 0                 0                  0   \n",
       "\n",
       "      accomodates = _14  accomodates = _16  \n",
       "1                     0                  0  \n",
       "2                     0                  0  \n",
       "3                     0                  0  \n",
       "4                     0                  0  \n",
       "9                     0                  0  \n",
       "...                 ...                ...  \n",
       "6581                  0                  0  \n",
       "6651                  0                  0  \n",
       "6658                  0                  0  \n",
       "6724                  0                  0  \n",
       "6738                  0                  0  \n",
       "\n",
       "[1136 rows x 14 columns]"
      ]
     },
     "execution_count": 470,
     "metadata": {},
     "output_type": "execute_result"
    }
   ],
   "source": [
    "df_dummies = pd.get_dummies(df_filtered, columns=[\"accommodates\"], prefix=\"accomodates = \", drop_first=True)\n",
    "df_dummies = df_dummies.astype(int)\n",
    "df_dummies"
   ]
  },
  {
   "cell_type": "code",
   "execution_count": 471,
   "id": "355c2adf-77d0-4ef3-b6aa-495643f0ca89",
   "metadata": {},
   "outputs": [
    {
     "data": {
      "image/png": "[encoded data removed]",
      "text/plain": [
       "<Figure size 640x480 with 2 Axes>"
      ]
     },
     "metadata": {},
     "output_type": "display_data"
    }
   ],
   "source": [
    "correlation_matrix = df_dummies.corr()\n",
    "correlations = correlation_matrix[\"estimated_occupancy_l365d\"].drop([\"estimated_occupancy_l365d\",\"beds\",\"bathrooms\"])\n",
    "\n",
    "threshold = 0.06\n",
    "filtered = correlations[correlations.abs() > threshold]\n",
    "\n",
    "sns.heatmap(filtered.to_frame().T, annot=True, cmap='coolwarm')\n",
    "plt.title('Most relevant correlations')\n",
    "plt.show()"
   ]
  },
  {
   "cell_type": "code",
   "execution_count": 472,
   "id": "1ee1c87d-0966-4770-8b72-407b268208b8",
   "metadata": {},
   "outputs": [],
   "source": [
    "df_dummies = pd.get_dummies(df_filtered, columns=[\"beds\"], prefix=\"beds = \", drop_first=True)\n",
    "df_dummies = df_dummies.astype(int)"
   ]
  },
  {
   "cell_type": "code",
   "execution_count": 473,
   "id": "1cedbb4d-54ba-4c8b-8adf-0860637ff496",
   "metadata": {},
   "outputs": [
    {
     "data": {
      "image/png": "[encoded data removed]",
      "text/plain": [
       "<Figure size 640x480 with 2 Axes>"
      ]
     },
     "metadata": {},
     "output_type": "display_data"
    }
   ],
   "source": [
    "correlation_matrix = df_dummies.corr()\n",
    "correlations = correlation_matrix[\"estimated_occupancy_l365d\"].drop([\"estimated_occupancy_l365d\",\"accommodates\",\"bathrooms\"])\n",
    "\n",
    "threshold = 0.05\n",
    "filtered = correlations[correlations.abs() > threshold]\n",
    "\n",
    "sns.heatmap(filtered.to_frame().T, annot=True, cmap='coolwarm')\n",
    "plt.title('Most relevant correlations')\n",
    "plt.show()"
   ]
  },
  {
   "cell_type": "code",
   "execution_count": 474,
   "id": "3ad5326a-1c6d-44d7-a816-bc89d6096f31",
   "metadata": {},
   "outputs": [],
   "source": [
    "df_dummies = pd.get_dummies(df_filtered, columns=[\"bathrooms\"], prefix=\"bathrooms = \", drop_first=True)\n",
    "df_dummies = df_dummies.astype(int)"
   ]
  },
  {
   "cell_type": "code",
   "execution_count": 476,
   "id": "60ba35c6-ffa8-4218-a782-698e0c88558d",
   "metadata": {},
   "outputs": [
    {
     "data": {
      "image/png": "[encoded data removed]",
      "text/plain": [
       "<Figure size 640x480 with 2 Axes>"
      ]
     },
     "metadata": {},
     "output_type": "display_data"
    }
   ],
   "source": [
    "correlation_matrix = df_dummies.corr()\n",
    "correlations = correlation_matrix[\"estimated_occupancy_l365d\"].drop([\"estimated_occupancy_l365d\",\"beds\",\"accommodates\"])\n",
    "\n",
    "threshold = 0.05\n",
    "filtered = correlations[correlations.abs() > threshold]\n",
    "\n",
    "sns.heatmap(filtered.to_frame().T, annot=True, cmap='coolwarm')\n",
    "plt.title('Most relevant correlations')\n",
    "plt.show()"
   ]
  },
  {
   "cell_type": "markdown",
   "id": "009aa139-7bb6-4670-84c1-7b5edc93ef08",
   "metadata": {},
   "source": [
    "Conclusion: Based on the analysis of how individual values of bathrooms, beds, accommodates, and the types of property and room influence the estimated occupancy, we conclude that the optimal combination of features to achieve the highest estimated occupancy includes:  \n",
    "\n",
    "**Entire rental unit for 2 people, with 2 beds and 1 bathroom.** "
   ]
  }
 ],
 "metadata": {
  "kernelspec": {
   "display_name": "Python 3 (ipykernel)",
   "language": "python",
   "name": "python3"
  },
  "language_info": {
   "codemirror_mode": {
    "name": "ipython",
    "version": 3
   },
   "file_extension": ".py",
   "mimetype": "text/x-python",
   "name": "python",
   "nbconvert_exporter": "python",
   "pygments_lexer": "ipython3",
   "version": "3.13.3"
  }
 },
 "nbformat": 4,
 "nbformat_minor": 5
}
